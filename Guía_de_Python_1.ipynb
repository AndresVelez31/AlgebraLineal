{
  "nbformat": 4,
  "nbformat_minor": 0,
  "metadata": {
    "colab": {
      "provenance": [],
      "include_colab_link": true
    },
    "kernelspec": {
      "name": "python3",
      "display_name": "Python 3"
    },
    "language_info": {
      "name": "python"
    }
  },
  "cells": [
    {
      "cell_type": "markdown",
      "metadata": {
        "id": "view-in-github",
        "colab_type": "text"
      },
      "source": [
        "<a href=\"https://colab.research.google.com/github/AndresVelez31/AlgebraLineal/blob/main/Gu%C3%ADa_de_Python_1.ipynb\" target=\"_parent\"><img src=\"https://colab.research.google.com/assets/colab-badge.svg\" alt=\"Open In Colab\"/></a>"
      ]
    },
    {
      "cell_type": "markdown",
      "source": [
        "\n",
        "# **Guía #1: Álgebra de Vectores**\n",
        "\n",
        "**Objetivo:** Usar el lenguaje de programación de Python para el desarrollo y apropiación de las propiedades básicas de los vectores en $\\mathbb{R}^2$ y $\\mathbb{R}^3$.\n",
        "\n",
        "**Temas:** En esta guía se trabajarán las distintas  operaciones entre vectores como:  suma, resta, producto escalar, producto punto, producto vectorial, norma, ortogonalidad, ángulo entre vectores y proyección ortogonal.\n",
        "\n",
        "\n"
      ],
      "metadata": {
        "id": "yJTXJoSyfUoW"
      }
    },
    {
      "cell_type": "markdown",
      "source": [
        "## **Creación de vectores**\n",
        "\n",
        "Para la creación y tratado de vectores se debe llamar la biblioteca \"**numpy**\". Ésta biblioteca da soporte para crear vectores y matrices, y permite la realización de las diversas operaciones entre éstos elementos. \"**Numpy**\" generalmente se importa con el alias \"**np**\". En los siguientes ejemplos se muestra cómo llamar esta biblioteca.\n",
        "\n",
        "### **Ejemplo 1:**\n",
        "Crear los siguientes vectores:\n",
        "\n",
        "\n",
        "\n",
        "\\begin{equation*}\n",
        " \\vec{u} = (1, 40, -20),\n",
        " \\hspace{1cm}\n",
        " \\vec{v} = (-9, 32, 61),\n",
        "\\hspace{1cm}\n",
        " \\vec{w} = (0, -345, 42),\n",
        " \\hspace{1cm}\n",
        " \\vec{z} = (49, 2, 7),\n",
        "\\end{equation*}\n"
      ],
      "metadata": {
        "id": "S8_KgC0JzPpj"
      }
    },
    {
      "cell_type": "code",
      "source": [
        "# Solución del Ejemplo 1.\n",
        "\n",
        "# Importamos la biblioteca numpy con el alias np.\n",
        "import numpy as np\n",
        "\n",
        "# Creación de los vctores u, v, w, z.\n",
        "\n",
        "u = np.array([1, 40, -20])\n",
        "\n",
        "v = np.array([-9, 32, 61])\n",
        "\n",
        "w = np.array([0, -345, 42])\n",
        "\n",
        "z = np.array([49, 2, 7])\n",
        "\n",
        "# Imprimo los vectores\n",
        "\n",
        "print('u =', u), print('v =', v), print('w =', w), print('z =', z);"
      ],
      "metadata": {
        "id": "tLMBJnxIfdgs",
        "colab": {
          "base_uri": "https://localhost:8080/"
        },
        "outputId": "71e3b331-0343-43ac-eedc-a95f39fa7519"
      },
      "execution_count": null,
      "outputs": [
        {
          "output_type": "stream",
          "name": "stdout",
          "text": [
            "u = [  1  40 -20]\n",
            "v = [-9 32 61]\n",
            "w = [   0 -345   42]\n",
            "z = [49  2  7]\n"
          ]
        }
      ]
    },
    {
      "cell_type": "markdown",
      "source": [
        "## **Suma, resta y producto escalar**\n",
        "\n",
        "### **Ejemplo 2:**\n",
        "Use los vectores establecidos en el Ejemplo 1 para realizar las operaciones indicadas:\n",
        "\n",
        "\n",
        "\n",
        "a).   $(2\\vec{u} + 6 \\vec{w}) -(7\\vec{v}-\\vec{z}).$\n",
        "\n",
        "b).   $-2\\vec{w} + (\\vec{v}-4\\vec{u}).$\n",
        "\n",
        "c).  $4\\vec{v} - (\\vec{u}-3\\vec{w}) + 3\\vec{z}.$\n",
        "\n",
        "\n",
        "\n"
      ],
      "metadata": {
        "id": "RL00Txh7yBnt"
      }
    },
    {
      "cell_type": "code",
      "source": [
        "# Solución del Ejemplo 2.\n",
        "\n",
        "# a). Operación (2u + 6w)-(7v-z)\n",
        "\n",
        "a = (2*u + 6*w)-(7*v-z)\n",
        "\n",
        "# Imprimo el vector a\n",
        "\n",
        "print('a =', a);"
      ],
      "metadata": {
        "id": "fHLQfkTpqBXZ",
        "colab": {
          "base_uri": "https://localhost:8080/"
        },
        "outputId": "04141cd6-2384-4d0e-c12b-0ccdf43570bb"
      },
      "execution_count": null,
      "outputs": [
        {
          "output_type": "stream",
          "name": "stdout",
          "text": [
            "a = [  114 -2212  -208]\n"
          ]
        }
      ]
    },
    {
      "cell_type": "code",
      "source": [
        "# b). Operación -2w + (v-4u)\n",
        "\n",
        "b = -2*w + (v-4*u)\n",
        "\n",
        "# Imprimo el vector b\n",
        "\n",
        "print('b =', b);"
      ],
      "metadata": {
        "id": "VwQlcq2hrUO-",
        "colab": {
          "base_uri": "https://localhost:8080/"
        },
        "outputId": "bfcf3cf3-8c5b-48cd-a250-7f8f399c8ecd"
      },
      "execution_count": null,
      "outputs": [
        {
          "output_type": "stream",
          "name": "stdout",
          "text": [
            "b = [-13 562  57]\n"
          ]
        }
      ]
    },
    {
      "cell_type": "code",
      "source": [
        "# c). Operación 4v - (u-3w) + 3z\n",
        "\n",
        "c = 4*v - (u-3*w) + 3*z\n",
        "\n",
        "# Imprimo el vector c\n",
        "\n",
        "print('c =', c);"
      ],
      "metadata": {
        "id": "kWJpjqTC7vRJ",
        "colab": {
          "base_uri": "https://localhost:8080/"
        },
        "outputId": "79f17e51-3a9e-41f7-92da-ccb780ee27f1"
      },
      "execution_count": null,
      "outputs": [
        {
          "output_type": "stream",
          "name": "stdout",
          "text": [
            "c = [ 110 -941  411]\n"
          ]
        }
      ]
    },
    {
      "cell_type": "markdown",
      "source": [
        "## **Producto punto y magnitud (norma)**\n",
        "\n",
        "### **Ejemplo 3:**\n",
        "Crear los siguientes vectores\n",
        "\n",
        "\\begin{equation*}\n",
        " \\vec{u} = (50, -200, 0),\n",
        " \\hspace{1cm}\n",
        " \\vec{v} = (8, 609, 12),\n",
        "\\hspace{1cm}\n",
        " \\vec{w} = (-4, -5, 2),\n",
        " \\hspace{1cm}\n",
        " \\vec{z} = (10, 24, 78),\n",
        "\\end{equation*}\n",
        "\n",
        "y realizar las operaciones indicadas:\n",
        "\n",
        "a). $ \\vec{u}\\cdot \\vec{z} + \\vec{w}\\cdot (3\\vec{v}).$\n",
        "\n",
        "b). $ (\\vec{u} + \\vec{z}- \\vec{v}) \\cdot (\\vec{z}-3\\vec{w} + \\vec{v}).$\n",
        "\n",
        "c). $\\| \\vec{z}- \\vec{w}\\|- \\|\\vec{w} + \\vec{u}\\|.$\n",
        "\n",
        "d). $\\|\\vec{u}\\|(\\vec{v} + \\vec{z}) + \\| 2\\vec{z}- 3\\vec{w}\\|\\vec{z}.$"
      ],
      "metadata": {
        "id": "ET_6Dmfh5Mv6"
      }
    },
    {
      "cell_type": "code",
      "source": [
        "# Solución del Ejemplo 3.\n",
        "\n",
        "# Creación de los vectores u, v, w, z.\n",
        "\n",
        "u = np.array([50, -200, 0])\n",
        "\n",
        "v = np.array([8, 609, 12])\n",
        "\n",
        "w = np.array([-4, -5, 2])\n",
        "\n",
        "z = np.array([10, 24, 78])\n",
        "\n",
        "# Imprimo los vectores\n",
        "\n",
        "print('u =', u), print('v =', v), print('w =', w), print('z =', z);"
      ],
      "metadata": {
        "id": "xWG6ve0fuaji",
        "colab": {
          "base_uri": "https://localhost:8080/"
        },
        "outputId": "9b5bd0d0-69fe-4be4-b21a-55201df51393"
      },
      "execution_count": null,
      "outputs": [
        {
          "output_type": "stream",
          "name": "stdout",
          "text": [
            "u = [  50 -200    0]\n",
            "v = [  8 609  12]\n",
            "w = [-4 -5  2]\n",
            "z = [10 24 78]\n"
          ]
        }
      ]
    },
    {
      "cell_type": "code",
      "source": [
        "# a). Operación u.z + w.(3v)\n",
        "\n",
        "# Nota: El producto punto entre vectores se puede ejecutar con el comando @\n",
        "\n",
        "a = u @ z + w @ (3*v)\n",
        "\n",
        "print('a =', a);"
      ],
      "metadata": {
        "id": "8zYcD9dlusPJ",
        "colab": {
          "base_uri": "https://localhost:8080/"
        },
        "outputId": "251dee89-b781-4834-d181-0e4acfea4dd4"
      },
      "execution_count": null,
      "outputs": [
        {
          "output_type": "stream",
          "name": "stdout",
          "text": [
            "a = -13459\n"
          ]
        }
      ]
    },
    {
      "cell_type": "code",
      "source": [
        "# b). Operacion (u + z -v).(z - 3w + v)\n",
        "\n",
        "b = (u + z -v) @ (z -3*w + v)\n",
        "\n",
        "print('b =', b);"
      ],
      "metadata": {
        "id": "OkgA9eu-vCel",
        "colab": {
          "base_uri": "https://localhost:8080/"
        },
        "outputId": "239e1ab0-5c2d-4fd8-e63d-9d69bd03edcd"
      },
      "execution_count": null,
      "outputs": [
        {
          "output_type": "stream",
          "name": "stdout",
          "text": [
            "b = -501576\n"
          ]
        }
      ]
    },
    {
      "cell_type": "code",
      "source": [
        "# c). Operación ||z - w|| - ||w + u||\n",
        "\n",
        "# Nota: Para calcular la norma de un vector podemos hacer uso del comando np.linalg.norm.\n",
        "\n",
        "c = np.linalg.norm(z -w) - np.linalg.norm(w + u)\n",
        "\n",
        "print('c =', c);"
      ],
      "metadata": {
        "id": "RVW7Adxqvawd",
        "colab": {
          "base_uri": "https://localhost:8080/"
        },
        "outputId": "2dd201d1-e848-4c86-b401-7f7f9c2dfbea"
      },
      "execution_count": null,
      "outputs": [
        {
          "output_type": "stream",
          "name": "stdout",
          "text": [
            "c = -127.56621658553189\n"
          ]
        }
      ]
    },
    {
      "cell_type": "code",
      "source": [
        "# d). Operación ||u||(v-z) + ||2z -3w||z\n",
        "\n",
        "d = np.linalg.norm(u)*(v-z) + np.linalg.norm(2*z - 3*w)*z\n",
        "\n",
        "print('d =', d);"
      ],
      "metadata": {
        "id": "W_kUTzdoJrtF",
        "colab": {
          "base_uri": "https://localhost:8080/"
        },
        "outputId": "9863f5e0-8efd-4d5a-8b49-183dd13aaf04"
      },
      "execution_count": null,
      "outputs": [
        {
          "output_type": "stream",
          "name": "stdout",
          "text": [
            "d = [  1245.79076124 124580.28272645   -673.05823887]\n"
          ]
        }
      ]
    },
    {
      "cell_type": "markdown",
      "source": [
        "## **Ángulo entre vectores**\n",
        "\n",
        "**Ángulo entre vectores:** De las clases hemos aprendido que\n",
        "\n",
        "$$ \\cos \\theta = \\frac{\\vec{u} \\cdot \\vec{v}}{\\|\\vec{u}\\| \\|\\vec{v}\\|},  $$\n",
        "\n",
        "donde $\\theta$ es el **ángulo que forman los vectores** $\\vec{u}$ y $\\vec{v}$. Por lo tanto, el ángulo deseado se puede estimar invirtiendo la función coseno.\n",
        "\n",
        "\n",
        "### **Ejemplo 4:**\n",
        "Determinar en cada caso el ángulo entre los vectores:\n",
        "\n",
        "\n",
        "a).   $\\vec{u} = (3,0), \\ \\vec{v} = (5, 5).$\n",
        "\n",
        "b).   $ \\vec{u} = (-1,3,4), \\ \\vec{v} = (5,-2,7).$\n",
        "\n",
        "\n"
      ],
      "metadata": {
        "id": "zw5oT64T-HdW"
      }
    },
    {
      "cell_type": "code",
      "source": [
        "# Solución ejemplo 4\n",
        "\n",
        "# a). Defino los vectores u y v\n",
        "\n",
        "u = np.array([3,0])\n",
        "\n",
        "v = np.array([5,5])\n",
        "\n",
        "# Calculo el producto punto de u con v\n",
        "\n",
        "prod_uv = u @ v\n",
        "\n",
        "# Calculo la norma de los vectores u y v\n",
        "\n",
        "norm_u = np.linalg.norm(u)\n",
        "\n",
        "norm_v = np.linalg.norm(v)\n",
        "\n",
        "# Hallo el ángulo entre los vecotres u y v. Para ello, llamamos la biblioteca math de Python.\n",
        "\n",
        "import math\n",
        "\n",
        "# El inverso del coseno se obtiene mediante el comando math.acos\n",
        "\n",
        "theta = math.acos(prod_uv/(norm_u*norm_v))\n",
        "\n",
        "# Convierto el valor del ángulo en grados con el comando math.degrees\n",
        "\n",
        "theta = math.degrees(theta)\n",
        "\n",
        "print('theta =', theta);"
      ],
      "metadata": {
        "id": "VJrTGzewvvp_",
        "colab": {
          "base_uri": "https://localhost:8080/"
        },
        "outputId": "4afb8060-d37f-44b0-86fb-d40de2484364"
      },
      "execution_count": null,
      "outputs": [
        {
          "output_type": "stream",
          "name": "stdout",
          "text": [
            "theta = 45.00000000000001\n"
          ]
        }
      ]
    },
    {
      "cell_type": "markdown",
      "source": [
        "De lo anterior, tenemos que el ángulo entre los vectores es de $\\theta = 45^o$."
      ],
      "metadata": {
        "id": "VSsC9F8y7XNe"
      }
    },
    {
      "cell_type": "code",
      "source": [
        "# b). Defino los vectores u y v\n",
        "\n",
        "u = np.array([-1,3,4])\n",
        "\n",
        "v = np.array([5,-2,7])\n",
        "\n",
        "# Calculo el producto punto de u con v\n",
        "\n",
        "prod_uv = u @ v\n",
        "\n",
        "# Calculo la norma de los vectores u y v\n",
        "\n",
        "norm_u = np.linalg.norm(u)\n",
        "\n",
        "norm_v = np.linalg.norm(v)\n",
        "\n",
        "# El inverso del coseno se obtiene mediante el comando math.acos\n",
        "\n",
        "theta = math.acos(prod_uv/(norm_u*norm_v))\n",
        "\n",
        "# Convierto el valor del ángulo en grados con el comando math.degrees\n",
        "\n",
        "theta = math.degrees(theta)\n",
        "\n",
        "print('theta =', theta);"
      ],
      "metadata": {
        "id": "DeRfQ95T07zp",
        "colab": {
          "base_uri": "https://localhost:8080/"
        },
        "outputId": "4a0b7ca9-b8c7-4a4e-c26a-090a4e3af8c9"
      },
      "execution_count": null,
      "outputs": [
        {
          "output_type": "stream",
          "name": "stdout",
          "text": [
            "theta = 67.82119547323865\n"
          ]
        }
      ]
    },
    {
      "cell_type": "markdown",
      "source": [
        "Luego, el ángulo entre los vectores es de $\\theta \\approx  67.8^o$."
      ],
      "metadata": {
        "id": "yO2e8b8Ss-vT"
      }
    },
    {
      "cell_type": "markdown",
      "source": [
        "## **Ortogonalidad y proyección**\n",
        "\n",
        "**Ortogonalidad:** Como sabemos, dos vectores $\\vec{u}$ y $\\vec{v}$ son ortogonales si se cumple que **el producto punto entre ellos es cero**, es decir,\n",
        "\n",
        "$$\\vec{u} \\cdot \\vec{v} = 0.$$\n",
        "\n",
        "### **Ejemplo 5:**\n",
        "Determine si las parejas de vectores dadas a continuación son ortogonales:\n",
        "\n",
        "a). $ \\vec{u} = (1, 36,-8), \\ \\vec{v} = (9, -2,36)$\n",
        "\n",
        "b).  $ \\vec{u} = (14, 21,-7), \\ \\vec{v} = (3, -2,0)$\n"
      ],
      "metadata": {
        "id": "CHDD3JyvBOZt"
      }
    },
    {
      "cell_type": "code",
      "source": [
        "# Solución ejemplo 5\n",
        "\n",
        "# a).  Creo los vectores u y v\n",
        "\n",
        "u = np.array([1,36, -8])\n",
        "\n",
        "v = np.array([9, -2, 36])\n",
        "\n",
        "# Calculo el producto punto entre u y v\n",
        "\n",
        "prod_uv = u @ v\n",
        "\n",
        "print('prod_uv =', prod_uv);"
      ],
      "metadata": {
        "id": "X_QBS-deBPdd",
        "colab": {
          "base_uri": "https://localhost:8080/"
        },
        "outputId": "311763c9-34ae-4977-d3be-2d3042ce5dd7"
      },
      "execution_count": null,
      "outputs": [
        {
          "output_type": "stream",
          "name": "stdout",
          "text": [
            "prod_uv = -351\n"
          ]
        }
      ]
    },
    {
      "cell_type": "markdown",
      "source": [
        "Como $\\vec{u} \\cdot \\vec{v} = -351$, entonces los vectores no son ortogonales."
      ],
      "metadata": {
        "id": "_gx-OpJhy_mn"
      }
    },
    {
      "cell_type": "code",
      "source": [
        "# b).  Creo los vectores u y v\n",
        "\n",
        "u = np.array([14,21, -7])\n",
        "\n",
        "v = np.array([3, -2, 0])\n",
        "\n",
        "# Calculo el producto punto entre u y v\n",
        "\n",
        "prod_uv = u @ v\n",
        "\n",
        "print('prod_uv =', prod_uv);"
      ],
      "metadata": {
        "id": "OHV2EnXvDgTt",
        "colab": {
          "base_uri": "https://localhost:8080/"
        },
        "outputId": "6796b52c-31f3-46e4-f2d6-fc326b7c7d3a"
      },
      "execution_count": null,
      "outputs": [
        {
          "output_type": "stream",
          "name": "stdout",
          "text": [
            "prod_uv = 0\n"
          ]
        }
      ]
    },
    {
      "cell_type": "markdown",
      "source": [
        "Como $\\vec{u} \\cdot \\vec{v} = 0$, entonces los vectores son ortogonales."
      ],
      "metadata": {
        "id": "7MN732U_zeq9"
      }
    },
    {
      "cell_type": "markdown",
      "source": [
        "**Proyección ortogonal:** Recordemos que dados los vectores $\\vec{u}$ y $\\vec{v}$, se define el vector proyección de $\\vec{v}$ sobre $\\vec{u}$ como:  \n",
        "\n",
        "$$\\vec{p} = Pr(\\vec{v}/\\vec{u}) = \\frac{\\vec{v} \\cdot \\vec{u}}{\\|\\vec{u}\\|^2}\\vec{u} = \\lambda \\vec{u},$$\n",
        "\n",
        "donde $\\lambda = \\frac{\\vec{v} \\cdot \\vec{u}}{\\|\\vec{u}\\|^2} \\in \\mathbb{R}. $ Por lo tanto, el vector $\\vec{p}$ es **paralelo** a $\\vec{u}$ y el vector $\\vec{h} = \\vec{v}-\\vec{p}$ es **ortogonal** a $\\vec{u}.$\n",
        "\n",
        "### **Ejemplo 6:**\n",
        "Calcule la proyección de $\\vec{v}$ sobre $\\vec{u}$ en cada caso:\n",
        "\n",
        "a). $ \\vec{u} = (1, 6,8), \\ \\vec{v} = (8, -2,1)$\n",
        "\n",
        "b).  $ \\vec{u} = (1,0), \\ \\vec{v} = (3,-6)$\n"
      ],
      "metadata": {
        "id": "tSJTtCEFzp6N"
      }
    },
    {
      "cell_type": "code",
      "source": [
        "# Solución ejemplo 6\n",
        "\n",
        "# a).  Creo los vectores u y v\n",
        "\n",
        "u = np.array([1,6,8])\n",
        "\n",
        "v = np.array([8, -2, 1])\n",
        "\n",
        "# Calculo la norma de u\n",
        "\n",
        "norm_u = np.linalg.norm(u)\n",
        "\n",
        "# Elevo al cuadrado la norma de u, para ello uso el comando math.pow\n",
        "\n",
        "norm_u2 = math.pow(norm_u,2)\n",
        "\n",
        "# Hallo el producto punto de u con v\n",
        "\n",
        "prod_uv = u @ v\n",
        "\n",
        "# Hallo la constante lambda\n",
        "\n",
        "Lambda = prod_uv/norm_u2\n",
        "\n",
        "# Hallo la proyección ortogonal p\n",
        "\n",
        "p = Lambda*u\n",
        "\n",
        "# visualizo el vector p\n",
        "\n",
        "print('p =', p);"
      ],
      "metadata": {
        "id": "VDA1UVfE1sre",
        "colab": {
          "base_uri": "https://localhost:8080/"
        },
        "outputId": "912dff27-bf82-4b6c-d587-314b6ab21e5d"
      },
      "execution_count": null,
      "outputs": [
        {
          "output_type": "stream",
          "name": "stdout",
          "text": [
            "p = [0.03960396 0.23762376 0.31683168]\n"
          ]
        }
      ]
    },
    {
      "cell_type": "code",
      "source": [
        "# b).  Creo los vectores u y v\n",
        "\n",
        "u = np.array([1,0])\n",
        "\n",
        "v = np.array([3,-6])\n",
        "\n",
        "# Calculo la norma de u\n",
        "\n",
        "norm_u = np.linalg.norm(u)\n",
        "\n",
        "# Elevo al cuadrado la norma de u, para ello uso el comando math.pow\n",
        "\n",
        "norm_u2 = math.pow(norm_u,2) # aquí el número 2 que aparece corresponde a elevar al cuadrado\n",
        "\n",
        "# Hallo el producto punto de u con v\n",
        "\n",
        "prod_uv = u @ v\n",
        "\n",
        "# Hallo la constante lambda\n",
        "\n",
        "Lambda = prod_uv/norm_u2\n",
        "\n",
        "# Hallo la proyección ortogonal p\n",
        "\n",
        "p = Lambda*u\n",
        "\n",
        "# visualizo el vector p\n",
        "\n",
        "print('p =', p);"
      ],
      "metadata": {
        "id": "9nlb21jE41tn",
        "colab": {
          "base_uri": "https://localhost:8080/"
        },
        "outputId": "f7596f2d-75f2-4b57-8184-37ca76b3f6b9"
      },
      "execution_count": null,
      "outputs": [
        {
          "output_type": "stream",
          "name": "stdout",
          "text": [
            "p = [3. 0.]\n"
          ]
        }
      ]
    },
    {
      "cell_type": "markdown",
      "source": [
        "### **Ejemplo 7:**\n",
        "Sean $\\vec{u} = (2, 1, 6)$ y $\\vec{v} = (1, −1, 3)$. Hallar dos vectores $\\vec{p}$ y $\\vec{h}$ tales que $\\vec{v} = \\vec{p} + \\vec{h}$ con $\\vec{p}$ paralelo a $\\vec{u}$ y $\\vec{h}$ ortogonal a $\\vec{u}$.\n",
        "\n",
        "**Solución:** De los ejemplos anteriores vemos que para encontrar estos vectores, podemos definir $\\vec{p}$ como la proyección de $\\vec{v}$ sobre $\\vec{u}$, y finalmente, el vector $\\vec{h}$ como $\\vec{v}-\\vec{p}.$"
      ],
      "metadata": {
        "id": "3U3Y8Nxr6k1T"
      }
    },
    {
      "cell_type": "code",
      "source": [
        "# Solución ejemplo 7\n",
        "\n",
        "# Creo los vectores u y v\n",
        "\n",
        "u = np.array([2,1,6])\n",
        "\n",
        "v = np.array([1,-1,3])\n",
        "\n",
        "# Calculo la norma de u\n",
        "\n",
        "norm_u = np.linalg.norm(u)\n",
        "\n",
        "# Elevo al cuadrado la norma de u, para ello uso el comando math.pow\n",
        "\n",
        "norm_u2 = math.pow(norm_u,2) # aquí el número 2 que aparece corresponde a elevar al cuadrado\n",
        "\n",
        "# Hallo el producto punto de u con v\n",
        "\n",
        "prod_uv = u @ v\n",
        "\n",
        "# Hallo la constante lambda\n",
        "\n",
        "Lambda = prod_uv/norm_u2\n",
        "\n",
        "# Hallo la proyección ortogonal p\n",
        "\n",
        "p = Lambda*u\n",
        "\n",
        "# Defino el vector h = v-p\n",
        "\n",
        "h = v-p\n",
        "\n",
        "# Visualizo los vectores p y h\n",
        "\n",
        "print('p =', p), print('h =', h);"
      ],
      "metadata": {
        "id": "qSylMeT58IEA",
        "colab": {
          "base_uri": "https://localhost:8080/"
        },
        "outputId": "897b368e-e334-4f7a-8259-a08bff520fd7"
      },
      "execution_count": null,
      "outputs": [
        {
          "output_type": "stream",
          "name": "stdout",
          "text": [
            "p = [0.92682927 0.46341463 2.7804878 ]\n",
            "h = [ 0.07317073 -1.46341463  0.2195122 ]\n"
          ]
        }
      ]
    },
    {
      "cell_type": "markdown",
      "source": [
        "## **Producto vectorial (cruz) en $\\mathbb{R}^3$**\n",
        "\n",
        "### **Ejemplo 8:**\n",
        "Halle el producto vectorial $\\vec{u} \\times \\vec{v}$ en cada caso:\n",
        "\n",
        "a). $\\vec{u} = (1, 5,-45)$ y  $\\vec{v} = (9, -2,0)$\n",
        "\n",
        "b). $\\vec{u} = (1, 0,0)$ y  $\\vec{v} = (0, 1,0)$"
      ],
      "metadata": {
        "id": "rWVXW_eb_7WJ"
      }
    },
    {
      "cell_type": "code",
      "source": [
        "# Solución ejemplo 8\n",
        "\n",
        "# a). Defino los vectores u y v\n",
        "\n",
        "u = np.array([1,5,-45])\n",
        "\n",
        "v = np.array([9,-2,0])\n",
        "\n",
        "# Hallo el producto vectorial (producto cruz) de u y v, usando el comando np.cross\n",
        "\n",
        "prodvect_uv = np.cross(u,v)\n",
        "\n",
        "# Visualizo el resultado\n",
        "\n",
        "print('prodvect_uv =', prodvect_uv);"
      ],
      "metadata": {
        "id": "TlKUljHB_8D1",
        "colab": {
          "base_uri": "https://localhost:8080/"
        },
        "outputId": "bfde8bb5-90e8-43ac-8ca1-9528526f89d9"
      },
      "execution_count": null,
      "outputs": [
        {
          "output_type": "stream",
          "name": "stdout",
          "text": [
            "prodvect_uv = [ -90 -405  -47]\n"
          ]
        }
      ]
    },
    {
      "cell_type": "code",
      "source": [
        "# b). Defino los vectores u y v\n",
        "\n",
        "u = np.array([1,0,0])\n",
        "\n",
        "v = np.array([0,1,0])\n",
        "\n",
        "# Hallo el producto vectorial (producto cruz) de u y v, usando el comando np.cross\n",
        "\n",
        "prodvect_uv = np.cross(u,v)\n",
        "\n",
        "# Visualizo el resultado\n",
        "\n",
        "print('prodvect_uv =', prodvect_uv);"
      ],
      "metadata": {
        "id": "jXI5jcWbB46y",
        "colab": {
          "base_uri": "https://localhost:8080/"
        },
        "outputId": "b8f81209-78c9-4e1f-c2a7-1d1fd6d15e93"
      },
      "execution_count": null,
      "outputs": [
        {
          "output_type": "stream",
          "name": "stdout",
          "text": [
            "prodvect_uv = [0 0 1]\n"
          ]
        }
      ]
    },
    {
      "cell_type": "markdown",
      "source": [
        "# **Problemas de práctica**\n",
        "\n",
        "**Ejercicio 1:** Considere los siguientes vectores:\n",
        "\n",
        "\\begin{equation*}\n",
        " \\vec{u} = (1, -2, 40),\n",
        " \\hspace{1cm}\n",
        " \\vec{v} = (0, -78, 94),\n",
        "\\hspace{1cm}\n",
        " \\vec{w} = (-2, 5, 20),\n",
        " \\hspace{1cm}\n",
        " \\vec{z} = (-6, 1, 1).\n",
        "\\end{equation*}\n",
        "\n",
        "Realice las operaciones indicadas en cada caso:\n",
        "\n",
        "a). $(2\\vec{u} + \\vec{v})\\cdot (\\vec{w}-5\\vec{z}).$\n",
        "\n",
        "b). $\\vec{u} \\times \\vec{w} + 2(\\vec{v}\\times \\vec{z}) -\\vec{v}.$\n",
        "\n",
        "c). $\\|\\vec{u} + 4\\vec{w}\\|\\vec{u} + \\vec{z}.$\n",
        "\n",
        "d). $\\|\\vec{u} \\times \\vec{w}\\|- \\|\\vec{w} \\times \\vec{z}\\|. $\n"
      ],
      "metadata": {
        "id": "GtAb8xLGEP7n"
      }
    },
    {
      "cell_type": "code",
      "source": [
        "# Empiece aquí su código\n",
        "\n"
      ],
      "metadata": {
        "id": "KRxwCyGlJSiR"
      },
      "execution_count": null,
      "outputs": []
    },
    {
      "cell_type": "markdown",
      "source": [
        "**Ejercicio 2:** Halle el ángulo entre los vectores y basado en esto determine si son ortogonales.\n",
        "\n",
        "a). $\\vec{u} = (2, 9), \\ \\vec{v} = (-3,7).$\n",
        "\n",
        "b). $\\vec{u} = (1,-5, 2), \\ \\vec{v} = (-2,0,1).$"
      ],
      "metadata": {
        "id": "VMN-IDvXJZB2"
      }
    },
    {
      "cell_type": "code",
      "source": [
        "# Empiece aquí su código\n",
        "\n"
      ],
      "metadata": {
        "id": "OYpPtDA8MRrJ"
      },
      "execution_count": null,
      "outputs": []
    },
    {
      "cell_type": "markdown",
      "source": [
        "**Ejercicio 3:** Sean $\\vec{u} = (7, 10, -2)$ y $\\vec{v} = (2, −4, 1)$. Hallar dos vectores $\\vec{p}$ y $\\vec{h}$ tales que $\\vec{v} = \\vec{p} + \\vec{h}$ con $\\vec{p}$ paralelo a $\\vec{u}$ y $\\vec{h}$ ortogonal a $\\vec{u}$."
      ],
      "metadata": {
        "id": "zVGPkLkJHWk7"
      }
    },
    {
      "cell_type": "code",
      "source": [
        "# Empiece aquí su código\n",
        "\n"
      ],
      "metadata": {
        "id": "WwT1ykG8HiYc"
      },
      "execution_count": null,
      "outputs": []
    }
  ]
}