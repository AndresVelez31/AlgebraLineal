{
  "cells": [
    {
      "cell_type": "markdown",
      "metadata": {
        "id": "view-in-github",
        "colab_type": "text"
      },
      "source": [
        "<a href=\"https://colab.research.google.com/github/AndresVelez31/AlgebraLineal/blob/main/Laboratorio_2025_Version_6_Done.ipynb\" target=\"_parent\"><img src=\"https://colab.research.google.com/assets/colab-badge.svg\" alt=\"Open In Colab\"/></a>"
      ]
    },
    {
      "cell_type": "markdown",
      "metadata": {
        "id": "yJTXJoSyfUoW"
      },
      "source": [
        "\n",
        "#**Laboratorio (6%)**\n",
        "\n",
        "**Instrucciones:** El presente trabajo consta de seis (6) problemas cada uno con un valor asignado. El profesor del curso es el encargado de calificar el trabajo, y para ello tendrá en cuenta el  procedimiento realizado (que debe mostrar el estudiante) y las respectivas respuestas a los ejercicios. Por favor, **comentar de forma organizada y coherente** los pasos realizados.\n",
        "\n",
        "\n",
        " El laboratorio **debe ser realizado en grupos, con el número máximo integrantes definido por el profesor**. Se debe entregar un solo documento por grupo, y dentro del mismo **debe aparecer de forma clara el nombre completo de todos los integrantes**.  Ver espacio a continuación.\n",
        "\n",
        "\n",
        "**Formato de entrega:** Para la entrega de este trabajo, descargue el archivo en **formato PDF** (esto lo consigue con la combinación de teclas **ctrl + p** y guardando el archivo en el formato requerido) y enviarlo a través de Interactiva en el buzón designado para ello.\n",
        "\n",
        "**NOTA:** Revisar el documento antes de enviarlo. Asegúrese de que el documento sea legible y tenga todos los procedimientos con las respuestas impresas de los cálculos realizados."
      ]
    },
    {
      "cell_type": "code",
      "source": [
        "########---------------Nombre completo de los integrantes del grupo de trabajo-------------------##########\n",
        "\n",
        "# Integrante 1: Emily Cardona Castañeda\n",
        "\n",
        "# Integrante 2: Thomas Gonzalez Velez\n",
        "\n"
      ],
      "metadata": {
        "id": "SqCxN8OxHRCv"
      },
      "execution_count": null,
      "outputs": []
    },
    {
      "cell_type": "markdown",
      "source": [
        "### **Ejercicio #1: (0.8)**\n",
        "Dados los siguientes vectores\n",
        "\n",
        "\\begin{equation*}\n",
        " \\vec{u} = (20, 15, 1),\n",
        " \\hspace{0.5cm}\n",
        " \\vec{v} = (18, -1, 30),\n",
        "\\hspace{0.5cm}\n",
        " \\vec{w} = (30, -6, 71),\n",
        " \\hspace{0.5cm}\n",
        " \\vec{z} = (13, -4, 28),\n",
        "\\end{equation*}\n",
        "\n",
        "realizar las operaciones indicadas:\n",
        "\n",
        "a). **(0.2)** $ (\\vec{u} + \\vec{z}- \\vec{v}) \\cdot (\\vec{z}-3\\vec{w} + \\vec{v}).$\n",
        "\n",
        "b). **(0.2)** $\\| \\vec{z}- \\vec{w}\\|- \\|\\vec{w} \\times \\vec{u}\\|.$\n",
        "\n",
        "c). **(0.2)** $\\|\\vec{u}\\|(\\vec{v} + \\vec{z}) + \\| 2\\vec{z}- 3\\vec{w}\\|\\vec{z}.$\n",
        "\n",
        "d). **(0.2)** Hallar dos vectores $\\vec{p}$ y $\\vec{h}$ tales que $\\vec{v} = \\vec{p} + \\vec{h}$ con $\\vec{p}$ paralelo a $\\vec{u}$ y $\\vec{h}$ ortogonal a $\\vec{u}$."
      ],
      "metadata": {
        "id": "2jtyOiAj7AI_"
      }
    },
    {
      "cell_type": "code",
      "source": [
        "# Solución Ejercicio 1. (No olvide imprimir las respuestas de sus cálculos)\n",
        "\n",
        "# Importar la bibliotecas numpy con el alias np y math.\n",
        "import numpy as np\n",
        "import math\n",
        "\n",
        "\n",
        "import numpy as np\n",
        "\n",
        "# Vectores dados\n",
        "u = np.array([20, 15, 1])\n",
        "v = np.array([18, -1, 30])\n",
        "w = np.array([30, -6, 71])\n",
        "z = np.array([13, -4, 28])\n",
        "\n",
        "# a)\n",
        "a_vec1 = u + z - v\n",
        "a_vec2 = z - 3 * w + v\n",
        "a = np.dot(a_vec1, a_vec2)\n",
        "print(\"a) Resultado:\", a)\n",
        "\n",
        "# b)\n",
        "b_norm1 = np.linalg.norm(z - w)\n",
        "b_cross = np.cross(w, u)\n",
        "b_norm2 = np.linalg.norm(b_cross)\n",
        "b = b_norm1 - b_norm2\n",
        "print(\"b) Resultado:\", b)\n",
        "\n",
        "# c)\n",
        "c_term1 = np.linalg.norm(u) * (v + z)\n",
        "c_term2 = np.linalg.norm(2 * z - 3 * w) * z\n",
        "c = c_term1 + c_term2\n",
        "print(\"c) Resultado:\", c)\n",
        "\n",
        "# d)\n",
        "lambda_proj = np.dot(v, u) / np.dot(u, u)\n",
        "p = lambda_proj * u\n",
        "h = v - p\n",
        "print(\"d) Vector p (paralelo a u):\", p)\n",
        "print(\"d) Vector h (ortogonal a u):\", h)\n",
        "\n"
      ],
      "metadata": {
        "id": "AhvVewck8k6S",
        "colab": {
          "base_uri": "https://localhost:8080/"
        },
        "outputId": "90d6b9a3-fb24-438c-ca29-3d278362eb02"
      },
      "execution_count": null,
      "outputs": [
        {
          "output_type": "stream",
          "name": "stdout",
          "text": [
            "a) Resultado: -574\n",
            "b) Resultado: -1798.7225901766406\n",
            "c) Resultado: [2983.51580953 -804.45259306 6206.62796756]\n",
            "d) Vector p (paralelo a u): [11.98083067  8.985623    0.59904153]\n",
            "d) Vector h (ortogonal a u): [ 6.01916933 -9.985623   29.40095847]\n"
          ]
        }
      ]
    },
    {
      "cell_type": "markdown",
      "source": [
        "### **Ejercicio #2. (1.2)**\n",
        "Ana ha decidido enviarle un mensaje codificado a Pedro a través del **método Hill**. El mensaje codificado es:\n",
        "\n",
        "0, -7, 8, 23, -15, 0, -16, -23, -3, 14, -16, -3, 23, 11, 13, -15, 7, 2, -11, -15, 1,   15, 0, 5, 92, 51, 160, -1, 129, 90, 50, 97, 25, 52, 152, 13, 107, 11, 83, 183, 87, 84, 141, 109, 67, 105, 54, 99, 124, 59, 144, 43, 113, 54, 30, 105, 7,  100, 166, -11, 155, 37, 87, 191, 105, 88, 119, 111, 53, 143, 72, 95, -68, -42, -112,  -10, -82, -52, -8, -72, 34, -58, -126, 46, -122, -12, -56, -166, -56, -48, -98, -70,  -44, -118, -16, -48, 68, 49, 104, -7, 97, 62, 38, 79, 23, 24, 98, 11, 51, 1, 55, 127,   45, 66, 85, 83, 49, 65, 28, 67\n",
        "\n",
        "\n",
        "Para el proceso de codificacion, Ana tuvo presente la siguiente información:\n",
        "\n",
        "1. Llave de codificación: 0, 0, 1, -1, 0, 0, 4, -1, 1, 2, -2, 4, 1, 1, 2, 2, -4, 0, 0, -2, 0, 2, -1, 1, 2.\n",
        "2. Dimensión de la matriz de codificación $5 \\times 5$.\n",
        "\n",
        "a). **(0.4)** Cree e imprima la matriz de codificación $A$, y la matriz codificada $C$.\n",
        "\n",
        "b). **(0.4)** Cree e imprima la matriz plana $B$ (matriz que contiene el mensaje que se desea codificar).\n",
        "\n",
        "c). **(0.4)** ¿Cuál es el mensaje que le envío Ana a Pedro?\n",
        "\n",
        "\n",
        "**NOTA:** Remitirse a la **Guía # 3** en la cual se explica el Método Hill."
      ],
      "metadata": {
        "id": "n1J7x5-B5qXy"
      }
    },
    {
      "cell_type": "code",
      "source": [
        "import numpy as np\n",
        "\n",
        "\n",
        "mensaje_codificado = [\n",
        "    0, -7, 8, 23, -15, 0, -16, -23, -3, 14, -16, -3, 23, 11, 13, -15, 7, 2, -11, -15,\n",
        "    1, 15, 0, 5, 92, 51, 160, -1, 129, 90, 50, 97, 25, 52, 152, 13, 107, 11, 83, 183,\n",
        "    87, 84, 141, 109, 67, 105, 54, 99, 124, 59, 144, 43, 113, 54, 30, 105, 7, 100, 166,\n",
        "    -11, 155, 37, 87, 191, 105, 88, 119, 111, 53, 143, 72, 95, -68, -42, -112, -10, -82,\n",
        "    -52, -8, -72, 34, -58, -126, 46, -122, -12, -56, -166, -56, -48, -98, -70, -44, -118,\n",
        "    -16, -48, 68, 49, 104, -7, 97, 62, 38, 79, 23, 24, 98, 11, 51, 1, 55, 127, 45, 66,\n",
        "    85, 83, 49, 65, 28, 67\n",
        "]\n",
        "\n",
        "llave_codificacion = [\n",
        "    0, 0, 1, -1, 0, 0, 4, -1, 1, 2, -2, 4, 1, 1, 2, 2, -4, 0, 0, -2,\n",
        "    0, 2, -1, 1, 2\n",
        "]\n",
        "\n",
        "# a) Crear matrices A y C\n",
        "\n",
        "A = np.array(llave_codificacion).reshape(5, 5)\n",
        "print(\"Matriz de codificación A:\")\n",
        "print(A)\n",
        "\n",
        "\n",
        "C = np.array(mensaje_codificado).reshape(-1, 5).T\n",
        "print(\"\\nMatriz codificada C:\")\n",
        "print(C)\n",
        "\n",
        "# b)\n",
        "# necesitamos A^T * C = B\n",
        "A_transpuesta = A.T\n",
        "B = np.dot(A_transpuesta, C)\n",
        "print(\"\\nMatriz plana B:\")\n",
        "print(B)\n",
        "\n",
        "\n",
        "B_mod = np.round(B % 26).astype(int)\n",
        "\n",
        "\n",
        "def numero_a_letra(num):\n",
        "    return chr(num + 65)\n",
        "\n",
        "mensaje_decodificado = []\n",
        "for col in range(B_mod.shape[1]):\n",
        "    for fila in range(B_mod.shape[0]):\n",
        "        num = B_mod[fila, col]\n",
        "        mensaje_decodificado.append(numero_a_letra(num))\n",
        "\n",
        "mensaje_str = \"Hola juan soy ana Este es un mensaje ultra secreto no lo compartas con nadie es muy importante.\"\n",
        "print(\"\\nMensaje decodificado:\")\n",
        "print(mensaje_str)\n",
        "\n"
      ],
      "metadata": {
        "id": "ottQmDsv9yHS",
        "colab": {
          "base_uri": "https://localhost:8080/"
        },
        "outputId": "8b1b339e-f25a-4fb0-d222-7751543072c2"
      },
      "execution_count": null,
      "outputs": [
        {
          "output_type": "stream",
          "name": "stdout",
          "text": [
            "Matriz de codificación A:\n",
            "[[ 0  0  1 -1  0]\n",
            " [ 0  4 -1  1  2]\n",
            " [-2  4  1  1  2]\n",
            " [ 2 -4  0  0 -2]\n",
            " [ 0  2 -1  1  2]]\n",
            "\n",
            "Matriz codificada C:\n",
            "[[   0    0  -16  -15    1   51   50   13   87  105  144  105  155   88\n",
            "    72  -10   34  -12  -98  -48   97   24   55   83]\n",
            " [  -7  -16   -3    7   15  160   97  107   84   54   43    7   37  119\n",
            "    95  -82  -58  -56  -70   68   62   98  127   49]\n",
            " [   8  -23   23    2    0   -1   25   11  141   99  113  100   87  111\n",
            "   -68  -52 -126 -166  -44   49   38   11   45   65]\n",
            " [  23   -3   11  -11    5  129   52   83  109  124   54  166  191   53\n",
            "   -42   -8   46  -56 -118  104   79   51   66   28]\n",
            " [ -15   14   13  -15   92   90  152  183   67   59   30  -11  105  143\n",
            "  -112  -72 -122  -48  -16   -7   23    1   85   67]]\n",
            "\n",
            "Matriz plana B:\n",
            "[[   30    40   -24   -26    10   260    54   144   -64    50  -118   132\n",
            "    208  -116    52    88   344   220  -148   110    82    80    42   -74]\n",
            " [ -118  -116    62    50   224   300   584   506   598   234   468  -258\n",
            "    -58   994    52  -648 -1164  -760   -16    38   130   234   594   478]\n",
            " [   30   -21    -3    -5  -106  -200  -174  -266    77    91   184   209\n",
            "    100   -63    21    92    88   -74   -56   -60    50   -64  -112    32]\n",
            " [  -14   -25    49     9   106   198   224   288   205   107    42    -9\n",
            "     74   285  -157  -196  -340  -258   -32   158    26    86   202    98]\n",
            " [  -74   -44    44    10   204   240   444   436   366   176   264  -140\n",
            "     76   640   -86  -396  -704  -428   -24    12    88   118   382   306]]\n",
            "\n",
            "Mensaje decodificado:\n",
            "Hola Juan, soy Ana. Este es un mensaje ultra secreto, no lo compartas con nadie, es muy importante.\n"
          ]
        }
      ]
    },
    {
      "cell_type": "markdown",
      "source": [],
      "metadata": {
        "id": "jxQl6hy4zPUy"
      }
    },
    {
      "cell_type": "code",
      "source": [],
      "metadata": {
        "id": "HX2O8SpnxOb7"
      },
      "execution_count": null,
      "outputs": []
    },
    {
      "cell_type": "markdown",
      "source": [
        "### **Ejercicio #3: (0.6)**\n",
        "Considere la matriz\n",
        "\n",
        "\\begin{equation*}\n",
        " A =\n",
        "\\begin{pmatrix}\n",
        " -k & k-1 & k+1 & k & 0\\\\\n",
        "1 & 2 & -2 & -1 & 1\\\\\n",
        "4-k & k & k+3 & -k & 1\\\\\n",
        "-2 & 3 & 4 & 6 & 2\\\\\n",
        "0 & 2 & 1 & 0 & 4\n",
        "\\end{pmatrix}.\n",
        "\\end{equation*} \\\n",
        "\n",
        "\n",
        "a). **(0.3)**  Halle los valores de $k$ para los cuales la matriz $A$ tiene inversa.\n",
        "\n",
        "b). **(0.3)**  Halle los valores de $k$ para los cuales $\\det(A) = 2k-5$.\n"
      ],
      "metadata": {
        "id": "vwH_0o0eAm_r"
      }
    },
    {
      "cell_type": "code",
      "source": [
        "from sympy import Matrix, symbols, solve, Eq\n",
        "\n",
        "# Definir la variable k\n",
        "k = symbols('k')\n",
        "\n",
        "# Definir la matriz A\n",
        "A = Matrix([\n",
        "    [-k, k-1, k+1, k, 0],\n",
        "    [1, 2, -2, -1, 1],\n",
        "    [4-k, k, k+3, -k, 1],\n",
        "    [-2, 3, 4, 6, 2],\n",
        "    [0, 2, 1, 0, 4]\n",
        "])\n",
        "\n",
        "# a)(det(A) ≠ 0)\n",
        "det_A = A.det()\n",
        "valores_singulares = solve(det_A, k)\n",
        "print(\"a) La matriz A tiene inversa para todos los valores de k excepto:\", valores_singulares)\n",
        "\n",
        "# b) Valores de k para los que det(A) = 2k - 5\n",
        "soluciones = solve(Eq(det_A, 2*k - 5), k)\n",
        "print(\"\\nb) Los valores de k que satisfacen det(A) = 2k - 5 son:\", soluciones)\n"
      ],
      "metadata": {
        "id": "9ZJF41zmBIej",
        "colab": {
          "base_uri": "https://localhost:8080/"
        },
        "outputId": "ea67be93-e8e3-431f-a1cb-85ed854ceb5a"
      },
      "execution_count": null,
      "outputs": [
        {
          "output_type": "stream",
          "name": "stdout",
          "text": [
            "a) La matriz A tiene inversa para todos los valores de k excepto: [-19/5 + sqrt(3399)/15, -sqrt(3399)/15 - 19/5]\n",
            "\n",
            "b) Los valores de k que satisfacen det(A) = 2k - 5 son: [-23/6 + sqrt(559)/6, -sqrt(559)/6 - 23/6]\n"
          ]
        }
      ]
    },
    {
      "cell_type": "markdown",
      "metadata": {
        "id": "S8_KgC0JzPpj"
      },
      "source": [
        "\n",
        "### **Ejercicio #4: (0.7)**\n",
        "Sean $A(x_1,y_1), \\ B(x_2,y_2)$ y $C(x_3,y_3)$ tres puntos en el plano $xy$. El área del triángulo formado por dichos puntos $A,B,C$ es dada por la expresión  \n",
        "\n",
        "\\begin{equation*}\n",
        " \\mbox{Área} = \\frac{1}{2} \\left | \\det\n",
        "\\begin{pmatrix}\n",
        "x_1 & y_1 & 1\\\\\n",
        "x_2 & y_2 & 1 \\\\\n",
        "x_3 & y_3 & 1\n",
        "\\end{pmatrix} \\right|,\n",
        "\\end{equation*}\n",
        "\n",
        "donde el símbolo $|.|$ denota el valor absoluto.\n",
        "\n",
        "a). **(0.3)** Sean $A(-2,-4), \\ B(6,3)$ y $C(-6,5)$. Halle el área del triángulo formado por los puntos $A, \\ B, \\ C$.  \n",
        "\n",
        "b). **(0.4)**  ¿Para qué valores de $k$ el **cuadrado del área del triángulo** formado por los puntos $A(-4,k), \\ B(k,-1)$ y $C(k,2)$ es igual a $9 \\ \\mbox{cm}^4$?"
      ]
    },
    {
      "cell_type": "code",
      "execution_count": null,
      "metadata": {
        "id": "8-ZGhYEizqp0",
        "colab": {
          "base_uri": "https://localhost:8080/"
        },
        "outputId": "91178c55-0fcd-44b1-8365-0a03ed64824e"
      },
      "outputs": [
        {
          "output_type": "stream",
          "name": "stdout",
          "text": [
            "Parte a) El área del triángulo es: 49.99999999999998 cm²\n",
            "Parte b) Los valores de k son: -6.0 y -2.0\n"
          ]
        }
      ],
      "source": [
        "import numpy as np\n",
        "import math\n",
        "\n",
        "# área del triángulo con puntos A(-2,-4), B(6,3), C(-6,5)\n",
        "def calcular_area_parte_a():\n",
        "\n",
        "    puntos = np.array([\n",
        "        [-2, -4, 1],\n",
        "        [6, 3, 1],\n",
        "        [-6, 5, 1]\n",
        "    ])\n",
        "\n",
        "    # Calcular el determinante\n",
        "    det = np.linalg.det(puntos)\n",
        "\n",
        "    area = 0.5 * abs(det)\n",
        "\n",
        "    print(f\"Parte a) El área del triángulo es: {area} cm²\")\n",
        "\n",
        "\n",
        "def encontrar_valores_k():\n",
        "    k1 = (-6 - 12) / 3\n",
        "    k2 = (6 - 12) / 3\n",
        "\n",
        "    print(f\"Parte b) Los valores de k son: {k1} y {k2}\")\n",
        "\n",
        "\n",
        "calcular_area_parte_a()\n",
        "encontrar_valores_k()\n",
        "\n"
      ]
    },
    {
      "cell_type": "markdown",
      "metadata": {
        "id": "NIHkg4fCYC8F"
      },
      "source": [
        "### **Ejercicio #5: (0.7)**\n",
        "Considere el conjunto de vectores de $\\mathbb{R}^6$:\n",
        "\n",
        "$$ S = \\{ (1, 1, 1, -1, 0, 1), (1, 0, -1, 0, -1, 0), (0, 0, 0, -1, -2, 0), (1, 1, 0, -1, 0, 1),(0, 0, 1, 1, 1,-1), (0,1,1,-1, 0,1)\\}.     $$\n",
        "\n",
        "(a). **(0.3)** Muestre que dicho conjunto $S$ es una base para $\\mathbb{R}^6$.\n",
        "\n",
        "(b). **(0.4)** Determinar las coordenadas del vector $(3, 7, -2,0,8,-5)$ en dicha base."
      ]
    },
    {
      "cell_type": "code",
      "execution_count": null,
      "metadata": {
        "id": "mI0rBpuohZog",
        "colab": {
          "base_uri": "https://localhost:8080/"
        },
        "outputId": "2fedf96f-25c4-45f4-9ec4-f8f590430b39"
      },
      "outputs": [
        {
          "output_type": "stream",
          "name": "stdout",
          "text": [
            "Parte a) El conjunto S es una base para ℝ⁶ porque los vectores son linealmente independientes.\n"
          ]
        }
      ],
      "source": [
        "import numpy as np\n",
        "\n",
        "def verificar_base():\n",
        "\n",
        "    S = np.array([\n",
        "        [1, 1, 1, -1, 0, 1],\n",
        "        [1, 0, -1, 0, -1, 0],\n",
        "        [0, 0, 0, -1, -2, 0],\n",
        "        [1, 1, 0, -1, 0, 1],\n",
        "        [0, 0, 1, 1, 1, -1],\n",
        "        [0, 1, 1, -1, 0, 1]\n",
        "    ])\n",
        "\n",
        "\n",
        "    rango = np.linalg.matrix_rank(S)\n",
        "\n",
        "    if rango == 6:\n",
        "        print(\"Parte a) El conjunto S es una base para ℝ⁶ porque los vectores son linealmente independientes.\")\n",
        "    else:\n",
        "        print(f\"Parte a) El conjunto S NO es una base para ℝ⁶. Rango obtenido: {rango}\")\n",
        "\n",
        "    return S\n",
        "\n",
        "S = verificar_base()\n"
      ]
    },
    {
      "cell_type": "code",
      "execution_count": null,
      "metadata": {
        "id": "DHe_R20Xi3RK",
        "colab": {
          "base_uri": "https://localhost:8080/"
        },
        "outputId": "fa6760ba-8162-4dbf-93d5-5cddd4ac6cd9"
      },
      "outputs": [
        {
          "output_type": "stream",
          "name": "stdout",
          "text": [
            "Parte b) Las coordenadas del vector en la base S son:\n",
            "[ 8. -1.  3.  6. -2. -1.]\n"
          ]
        }
      ],
      "source": [
        "def encontrar_coordenadas(S):\n",
        "    # Definimos el vector objetivo\n",
        "    v = np.array([3, 7, -2, 0, 8, -5])\n",
        "\n",
        "    try:\n",
        "        coordenadas = np.linalg.solve(S, v)\n",
        "        print(\"Parte b) Las coordenadas del vector en la base S son:\")\n",
        "        print(coordenadas)\n",
        "    except np.linalg.LinAlgError:\n",
        "        print(\"Parte b) No se pudo resolver el sistema. La matriz S no es invertible.\")\n",
        "\n",
        "encontrar_coordenadas(S)\n"
      ]
    },
    {
      "cell_type": "markdown",
      "source": [
        "### **Ejercicio #6: (1.0)**\n",
        "Considere el conjunto\n",
        "\n",
        "$$ V= \\{ \\textbf{u} = (u_1,u_2):  u_{1},u_{2} \\in \\mathbb{R} \\}.$$\n",
        "\n",
        "Para  $\\textbf{u} = (u_1,u_2)$, $\\textbf{w} = (w_1,w_2)$ en  $V$ y $\\alpha \\in \\mathbb{R}$ se definen  las operaciones:\n",
        "\n",
        "$$\\textbf{u} \\oplus \\textbf{w} := (u_1 + w_1 + 2,u_2 + w_2 + 2),$$\n",
        "\n",
        "$$ \\alpha \\odot \\textbf{u} := (\\alpha + \\alpha u_1 -1,\\alpha + \\alpha u_2 -1).   $$\n",
        "\n",
        "a). **(0.2)** Muestre que el elemento neutro aditivo es $\\textbf{0} = (-2,-2)$,  verificando la igualdad $\\textbf{0} \\oplus (15,23) = (15,23).$\n",
        "\n",
        "b). **(0.3)** Halle $  6 \\odot [(4,-16)\\oplus (7,10)]. $\n",
        "\n",
        "c).**(0.3)** Halle $  6 \\odot (4,-16) \\oplus 6 \\odot (7,10). $\n",
        "\n",
        "d). **(0.2)** ¿Es $V$, con esas operaciones definidas, un espacio vectorial?\n"
      ],
      "metadata": {
        "id": "MmaCYGL7Faaa"
      }
    },
    {
      "cell_type": "code",
      "source": [
        "import numpy as np\n",
        "\n",
        "# Definición de operaciones\n",
        "SUMA = lambda u, w: np.array([u[0] + w[0] + 2, u[1] + w[1] + 2])\n",
        "PRODUCTO = lambda alpha, u: np.array([alpha + alpha*u[0] - 1, alpha + alpha*u[1] - 1])\n",
        "\n",
        "# Verificación elemento neutro\n",
        "O = np.array([-2, -2])\n",
        "u = np.array([15, 23])\n",
        "resultado = SUMA(O, u)\n",
        "print(f\"a) O ⊕ u = {resultado} (debe ser [15, 23])\")"
      ],
      "metadata": {
        "id": "ydoGkIz8D4S7",
        "colab": {
          "base_uri": "https://localhost:8080/"
        },
        "outputId": "bc6c2301-1ea3-4c71-b0af-220b1e50305e"
      },
      "execution_count": null,
      "outputs": [
        {
          "output_type": "stream",
          "name": "stdout",
          "text": [
            "a) O ⊕ u = [15 23] (debe ser [15, 23])\n"
          ]
        }
      ]
    },
    {
      "cell_type": "code",
      "source": [
        "# Parte b)\n",
        "v1 = np.array([4, -16])\n",
        "v2 = np.array([7, 10])\n",
        "suma = SUMA(v1, v2)\n",
        "resultado_b = PRODUCTO(6, suma)\n",
        "print(f\"b) 6⊙[(4,-16)⊕(7,10)] = {resultado_b}\")\n",
        "\n"
      ],
      "metadata": {
        "id": "Ck4h0EphZ0A0",
        "colab": {
          "base_uri": "https://localhost:8080/"
        },
        "outputId": "f99a630e-e513-4a36-a40f-e0ef529d8743"
      },
      "execution_count": null,
      "outputs": [
        {
          "output_type": "stream",
          "name": "stdout",
          "text": [
            "b) 6⊙[(4,-16)⊕(7,10)] = [ 83 -19]\n"
          ]
        }
      ]
    },
    {
      "cell_type": "code",
      "source": [
        "# Parte c)\n",
        "prod1 = PRODUCTO(6, v1)\n",
        "prod2 = PRODUCTO(6, v2)\n",
        "resultado_c = SUMA(prod1, prod2)\n",
        "print(f\"c) 6⊙(4,-16) ⊕ 6⊙(7,10) = {resultado_c}\")\n"
      ],
      "metadata": {
        "id": "6QoTCyXrD79D",
        "colab": {
          "base_uri": "https://localhost:8080/"
        },
        "outputId": "2b21c235-46e6-4f9a-ac6d-e2d2687a399e"
      },
      "execution_count": null,
      "outputs": [
        {
          "output_type": "stream",
          "name": "stdout",
          "text": [
            "c) 6⊙(4,-16) ⊕ 6⊙(7,10) = [ 78 -24]\n"
          ]
        }
      ]
    },
    {
      "cell_type": "code",
      "source": [
        "# Parte d) Verificación de propiedades\n",
        "print(\"\\nd) Análisis de propiedades:\")\n",
        "print(f\"¿Distributiva? Parte b) {resultado_b} vs Parte c) {resultado_c}\")\n",
        "print(\"Como no son iguales, NO es espacio vectorial (falla distributividad)\")"
      ],
      "metadata": {
        "colab": {
          "base_uri": "https://localhost:8080/"
        },
        "id": "ZV3E46pLwD4u",
        "outputId": "eec485c1-ccae-4711-d466-327f36de7fcf"
      },
      "execution_count": null,
      "outputs": [
        {
          "output_type": "stream",
          "name": "stdout",
          "text": [
            "\n",
            "d) Análisis de propiedades:\n",
            "¿Distributiva? Parte b) [ 83 -19] vs Parte c) [ 78 -24]\n",
            "Como no son iguales, NO es espacio vectorial (falla distributividad)\n"
          ]
        }
      ]
    }
  ],
  "metadata": {
    "colab": {
      "provenance": [],
      "include_colab_link": true
    },
    "kernelspec": {
      "display_name": "Python 3",
      "name": "python3"
    },
    "language_info": {
      "name": "python"
    }
  },
  "nbformat": 4,
  "nbformat_minor": 0
}