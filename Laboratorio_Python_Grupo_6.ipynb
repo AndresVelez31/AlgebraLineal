{
  "cells": [
    {
      "cell_type": "markdown",
      "metadata": {
        "id": "view-in-github",
        "colab_type": "text"
      },
      "source": [
        "<a href=\"https://colab.research.google.com/github/AndresVelez31/AlgebraLineal/blob/main/Laboratorio_Python_Grupo_6.ipynb\" target=\"_parent\"><img src=\"https://colab.research.google.com/assets/colab-badge.svg\" alt=\"Open In Colab\"/></a>"
      ]
    },
    {
      "cell_type": "markdown",
      "metadata": {
        "id": "yJTXJoSyfUoW"
      },
      "source": [
        "\n",
        "#**Laboratorio (6%)**\n",
        "\n",
        "**Instrucciones:** El presente trabajo consta de seis (6) problemas cada uno con un valor asignado. El profesor del curso es el encargado de calificar el trabajo, y para ello tendrá en cuenta el  procedimiento realizado (que debe mostrar el estudiante) y las respectivas respuestas a los ejercicios. Por favor, **comentar de forma organizada y coherente** los pasos realizados.\n",
        "\n",
        "\n",
        " El laboratorio **debe ser realizado en grupos, con el número máximo integrantes definido por el profesor**. Se debe entregar un solo documento por grupo, y dentro del mismo **debe aparecer de forma clara el nombre completo de todos los integrantes**.  Ver espacio a continuación.\n",
        "\n",
        "\n",
        "**Formato de entrega:** Para la entrega de este trabajo, descargue el archivo en **formato PDF** (esto lo consigue con la combinación de teclas **ctrl + p** y guardando el archivo en el formato requerido) y enviarlo a través de Interactiva en el buzón designado para ello.\n",
        "\n",
        "**NOTA:** Revisar el documento antes de enviarlo. Asegúrese de que el documento sea legible y tenga todos los procedimientos con las respuestas impresas de los cálculos realizados."
      ]
    },
    {
      "cell_type": "code",
      "source": [
        "########---------------Nombre completo de los integrantes del grupo de trabajo-------------------##########\n",
        "\n",
        "# Integrante 1: Sebastian Salazar Henao\n",
        "\n",
        "# Integrante 2: Alyson Dahiana Henao Fernández\n",
        "\n",
        "# Integrante 3: Tomas Ramirez Galeano\n",
        "\n",
        "# Integrante 4: Andrés Felipe Vélez Álvarez\n",
        "\n",
        "# Integrante 5: Jeremias Figueroa García\n"
      ],
      "metadata": {
        "id": "SqCxN8OxHRCv"
      },
      "execution_count": null,
      "outputs": []
    },
    {
      "cell_type": "markdown",
      "source": [
        "### **Ejercicio #1: (0.8)**\n",
        "Dados los siguientes vectores\n",
        "\n",
        "\\begin{equation*}\n",
        " \\vec{u} = (20, 15, 1),\n",
        " \\hspace{0.5cm}\n",
        " \\vec{v} = (18, -1, 30),\n",
        "\\hspace{0.5cm}\n",
        " \\vec{w} = (30, -6, 71),\n",
        " \\hspace{0.5cm}\n",
        " \\vec{z} = (13, -4, 28),\n",
        "\\end{equation*}\n",
        "\n",
        "realizar las operaciones indicadas:\n",
        "\n",
        "a). **(0.2)** $ (\\vec{u} + \\vec{z}- \\vec{v}) \\cdot (\\vec{z}-3\\vec{w} + \\vec{v}).$\n",
        "\n",
        "b). **(0.2)** $\\| \\vec{z}- \\vec{w}\\|- \\|\\vec{w} \\times \\vec{u}\\|.$\n",
        "\n",
        "c). **(0.2)** $\\|\\vec{u}\\|(\\vec{v} + \\vec{z}) + \\| 2\\vec{z}- 3\\vec{w}\\|\\vec{z}.$\n",
        "\n",
        "d). **(0.2)** Hallar dos vectores $\\vec{p}$ y $\\vec{h}$ tales que $\\vec{v} = \\vec{p} + \\vec{h}$ con $\\vec{p}$ paralelo a $\\vec{u}$ y $\\vec{h}$ ortogonal a $\\vec{u}$."
      ],
      "metadata": {
        "id": "2jtyOiAj7AI_"
      }
    },
    {
      "cell_type": "code",
      "source": [
        "# Solución Ejercicio 1. (No olvide imprimir las respuestas de sus cálculos)\n",
        "\n",
        "# Importar la bibliotecas numpy con el alias np y math.\n",
        "import numpy as np\n",
        "import math\n",
        "\n",
        "# Definir los vectores u,v,w,z\n",
        "u = np.array([20, 15, 1])\n",
        "v = np.array([18, -1, 30])\n",
        "w = np.array([30, -6, 71])\n",
        "z = np.array([13, -4, 28])\n",
        "\n",
        "# (a):\n",
        "a = (u + z - v) @ (z - (3*w) + v)\n",
        "print(\"a) Resultado:\", a)\n",
        "\n",
        "# (b):\n",
        "b = np.linalg.norm(z - w) - np.linalg.norm(np.cross(w, u))\n",
        "print(\"b) Resultado:\", b)\n",
        "\n",
        "# (c):\n",
        "c = np.linalg.norm(u) * (v + z) + np.linalg.norm(2*z - 3*w) * z\n",
        "print(\"c) Resultado:\", c)\n",
        "\n",
        "# (d):\n",
        "# Para que p sea paralelo a u, debe ser un escalar multiplicado por u\n",
        "# Para encontrar este escalar, usamos la proyección de v sobre u\n",
        "# El escalar es (v·u)/(u·u)\n",
        "escalar = (v @ u) / (u @ u)\n",
        "p = escalar * u\n",
        "\n",
        "# h es la parte de v que es ortogonal a u\n",
        "# h = v - p\n",
        "h = v - p\n",
        "\n",
        "# Verificamos que h sea ortogonal a u\n",
        "producto_punto = np.dot(h, u)\n",
        "print(f\"d) Vector p (paralelo a u): {p}\\n   Vector h (ortogonal a u): {h}\")\n"
      ],
      "metadata": {
        "id": "AhvVewck8k6S",
        "colab": {
          "base_uri": "https://localhost:8080/"
        },
        "outputId": "70b578c5-156b-4552-aa55-1d1cfb767f76"
      },
      "execution_count": null,
      "outputs": [
        {
          "output_type": "stream",
          "name": "stdout",
          "text": [
            "a) Resultado: -574\n",
            "b) Resultado: -1798.7225901766406\n",
            "c) Resultado: [2983.51580953 -804.45259306 6206.62796756]\n",
            "d) Vector p (paralelo a u): [11.98083067  8.985623    0.59904153]\n",
            "   Vector h (ortogonal a u): [ 6.01916933 -9.985623   29.40095847]\n"
          ]
        }
      ]
    },
    {
      "cell_type": "markdown",
      "source": [
        "### **Ejercicio #2. (1.2)**\n",
        "Ana ha decidido enviarle un mensaje codificado a Pedro a través del **método Hill**. El mensaje codificado es:\n",
        "\n",
        "0, -7, 8, 23, -15, 0, -16, -23, -3, 14, -16, -3, 23, 11, 13, -15, 7, 2, -11, -15, 1,   15, 0, 5, 92, 51, 160, -1, 129, 90, 50, 97, 25, 52, 152, 13, 107, 11, 83, 183, 87, 84, 141, 109, 67, 105, 54, 99, 124, 59, 144, 43, 113, 54, 30, 105, 7,  100, 166, -11, 155, 37, 87, 191, 105, 88, 119, 111, 53, 143, 72, 95, -68, -42, -112,  -10, -82, -52, -8, -72, 34, -58, -126, 46, -122, -12, -56, -166, -56, -48, -98, -70,  -44, -118, -16, -48, 68, 49, 104, -7, 97, 62, 38, 79, 23, 24, 98, 11, 51, 1, 55, 127,   45, 66, 85, 83, 49, 65, 28, 67\n",
        "\n",
        "\n",
        "Para el proceso de codificacion, Ana tuvo presente la siguiente información:\n",
        "\n",
        "1. Llave de codificación: 0, 0, 1, -1, 0, 0, 4, -1, 1, 2, -2, 4, 1, 1, 2, 2, -4, 0, 0, -2, 0, 2, -1, 1, 2.\n",
        "2. Dimensión de la matriz de codificación $5 \\times 5$.\n",
        "\n",
        "a). **(0.4)** Cree e imprima la matriz de codificación $A$, y la matriz codificada $C$.\n",
        "\n",
        "b). **(0.4)** Cree e imprima la matriz plana $B$ (matriz que contiene el mensaje que se desea codificar).\n",
        "\n",
        "c). **(0.4)** ¿Cuál es el mensaje que le envío Ana a Pedro?\n",
        "\n",
        "\n",
        "**NOTA:** Remitirse a la **Guía # 3** en la cual se explica el Método Hill."
      ],
      "metadata": {
        "id": "n1J7x5-B5qXy"
      }
    },
    {
      "cell_type": "code",
      "source": [
        "# Solución ejercicio 2. (No olvide imprimir las respuestas de sus cálculos)\n",
        "\n",
        "# Importar la biblioteca numpy con el alias np.\n",
        "import numpy as np\n",
        "\n",
        "# Definir e imprimir las matrices A y C\n",
        "\n",
        "# (a):\n",
        "\n",
        "A = [0, 0, 1, -1, 0, 0, 4, -1, 1, 2, -2, 4, 1, 1, 2, 2, -4, 0, 0, -2, 0, 2, -1, 1, 2]\n",
        "\n",
        "\n",
        "C = [\n",
        "    0, -7, 8, 23, -15, 0, -16, -23, -3, 14, -16, -3, 23, 11, 13, -15, 7, 2, -11, -15,\n",
        "    1, 15, 0, 5, 92, 51, 160, -1, 129, 90, 50, 97, 25, 52, 152, 13, 107, 11, 83, 183,\n",
        "    87, 84, 141, 109, 67, 105, 54, 99, 124, 59, 144, 43, 113, 54, 30, 105, 7, 100, 166,\n",
        "    -11, 155, 37, 87, 191, 105, 88, 119, 111, 53, 143, 72, 95, -68, -42, -112, -10,\n",
        "    -82, -52, -8, -72, 34, -58, -126, 46, -122, -12, -56, -166, -56, -48, -98, -70,\n",
        "    -44, -118, -16, -48, 68, 49, 104, -7, 97, 62, 38, 79, 23, 24, 98, 11, 51, 1, 55,\n",
        "    127, 45, 66, 85, 83, 49, 65, 28, 67\n",
        "]\n",
        "\n",
        "A_codificada = np.array(A).reshape(5, 5)\n",
        "num_columnas = len(C) // 5\n",
        "C_codificada = np.array(C).reshape(5, num_columnas)\n",
        "\n",
        "print(\"a) Matriz de codificación A:\")\n",
        "for fila in A_codificada:\n",
        "    print(\" \".join(f\"{x:>3}\" for x in fila))\n",
        "\n",
        "print(\"\\nMatriz codificada C:\")\n",
        "for fila in C_codificada:\n",
        "    print(\" \".join(f\"{x:>4}\" for x in fila))\n",
        "# Imprimir las respuestas\n"
      ],
      "metadata": {
        "id": "ottQmDsv9yHS",
        "colab": {
          "base_uri": "https://localhost:8080/",
          "height": 0
        },
        "outputId": "0e4f972e-1d79-4e35-a072-5c396282287b"
      },
      "execution_count": 100,
      "outputs": [
        {
          "output_type": "stream",
          "name": "stdout",
          "text": [
            "a) Matriz de codificación A:\n",
            "  0   0   1  -1   0\n",
            "  0   4  -1   1   2\n",
            " -2   4   1   1   2\n",
            "  2  -4   0   0  -2\n",
            "  0   2  -1   1   2\n",
            "\n",
            "Matriz codificada C:\n",
            "   0   -7    8   23  -15    0  -16  -23   -3   14  -16   -3   23   11   13  -15    7    2  -11  -15    1   15    0    5\n",
            "  92   51  160   -1  129   90   50   97   25   52  152   13  107   11   83  183   87   84  141  109   67  105   54   99\n",
            " 124   59  144   43  113   54   30  105    7  100  166  -11  155   37   87  191  105   88  119  111   53  143   72   95\n",
            " -68  -42 -112  -10  -82  -52   -8  -72   34  -58 -126   46 -122  -12  -56 -166  -56  -48  -98  -70  -44 -118  -16  -48\n",
            "  68   49  104   -7   97   62   38   79   23   24   98   11   51    1   55  127   45   66   85   83   49   65   28   67\n"
          ]
        }
      ]
    },
    {
      "cell_type": "code",
      "source": [
        "# Definir e imprimir la matriz B\n",
        "\n",
        "# (b):\n",
        "\n",
        "A_inv = np.linalg.inv(A_codificada)\n",
        "B = np.round(A_inv @ C_codificada).astype(int)\n",
        "\n",
        "print(\"\\nb) Matriz plana B:\")\n",
        "for fila in B:\n",
        "    print(\" \".join(f\"{x:>3}\" for x in fila))\n",
        "\n",
        "# Imprimir las respuestas\n"
      ],
      "metadata": {
        "id": "JOEngwv5-eLy",
        "colab": {
          "base_uri": "https://localhost:8080/",
          "height": 0
        },
        "outputId": "da53a013-5539-4645-8ae1-5e8d556fb61f"
      },
      "execution_count": 102,
      "outputs": [
        {
          "output_type": "stream",
          "name": "stdout",
          "text": [
            "\n",
            "b) Matriz plana B:\n",
            " 12   1  28   6  16  19  13   1  28   4   5  28   4   5  20   1  19  19  16  12  12   1  19  28\n",
            " 12   1  28   3  16  14   6   9   1  14  27   1  28   5  14  28  21   9  28  13   9  20  13  16\n",
            " 28   5  20  28   8   1   3   5  19  28  12  16  28  18  22   5  28  21   5  13   5  20  28  26\n",
            " 28  12  12   5  23   1  19  28  22  14  28  19   5   7   9  20  21  19  16  28   4   5  28  21\n",
            " 22  20  28   5  25  17   5  19   9   5  14   3   9   1  20  28   5  25   9  21  16  20   1  20\n"
          ]
        }
      ]
    },
    {
      "cell_type": "code",
      "source": [
        "# Mensaje que envío Ana a Pedro\n",
        "\n",
        "#(c):\n",
        "\n",
        "hill = {\n",
        "    1: 'A', 2: 'B', 3: 'C', 4: 'D', 5: 'E', 6: 'F', 7: 'G', 8: 'H', 9: 'I', 10: 'J',\n",
        "    11: 'K', 12: 'L', 13: 'M', 14: 'N', 15: 'Ñ', 16: 'O', 17: 'P', 18: 'Q', 19: 'R',\n",
        "    20: 'S', 21: 'T', 22: 'U', 23: 'V', 24: 'W', 25: 'X', 26: 'Y', 27: 'Z', 28: ' '\n",
        "}\n",
        "\n",
        "mensaje = \"\"\n",
        "for num in B.flatten():\n",
        "    if num == 0:\n",
        "        continue\n",
        "    letra = hill.get(num)\n",
        "    mensaje += letra if letra else '?'\n",
        "\n",
        "print(\"\\nc) Mensaje: \", mensaje)\n"
      ],
      "metadata": {
        "id": "HX2O8SpnxOb7",
        "colab": {
          "base_uri": "https://localhost:8080/",
          "height": 0
        },
        "outputId": "9c9c2d89-4add-446c-8d87-e7215e512bab"
      },
      "execution_count": 103,
      "outputs": [
        {
          "output_type": "stream",
          "name": "stdout",
          "text": [
            "\n",
            "c) Mensaje:  LA FORMA DE DESARROLLAR LA CONFIANZA EN TI MISMO ES HACER LO QUE TEMES Y LLEVAR UN REGISTRO DE TUS EXPERIENCIAS EXITOSAS\n"
          ]
        }
      ]
    },
    {
      "cell_type": "markdown",
      "source": [
        "### **Ejercicio #3: (0.6)**\n",
        "Considere la matriz\n",
        "\n",
        "\\begin{equation*}\n",
        " A =\n",
        "\\begin{pmatrix}\n",
        " -k & k-1 & k+1 & k & 0\\\\\n",
        "1 & 2 & -2 & -1 & 1\\\\\n",
        "4-k & k & k+3 & -k & 1\\\\\n",
        "-2 & 3 & 4 & 6 & 2\\\\\n",
        "0 & 2 & 1 & 0 & 4\n",
        "\\end{pmatrix}.\n",
        "\\end{equation*} \\\n",
        "\n",
        "\n",
        "a). **(0.3)**  Halle los valores de $k$ para los cuales la matriz $A$ tiene inversa.\n",
        "\n",
        "b). **(0.3)**  Halle los valores de $k$ para los cuales $\\det(A) = 2k-5$.\n"
      ],
      "metadata": {
        "id": "vwH_0o0eAm_r"
      }
    },
    {
      "cell_type": "code",
      "source": [
        "# Solución Ejercicio 3. (No olvide imprimir las respuestas de sus cálculos)\n",
        "\n",
        "# (a):\n",
        "import sympy as sp\n",
        "k = sp.Symbol('k')\n",
        "\n",
        "# Matriz A\n",
        "A = sp.Matrix([\n",
        "    [-k, k-1, k+1, k, 0],\n",
        "    [1, 2, -2, -1, 1],\n",
        "    [4-k, k, k+3, -k, 1],\n",
        "    [-2, 3, 4, 6, 2],\n",
        "    [0, 2, 1, 0, 4]\n",
        "])\n",
        "\n",
        "# determinante\n",
        "\n",
        "det_A = A.det()\n",
        "print(\"a) Determinante de A: \", det_A)\n",
        "\n",
        "# resolver det A = 0 para k\n",
        "\n",
        "valores = sp.solve(det_A, k)\n",
        "\n",
        "# soluciones\n",
        "\n",
        "print('A tiene inversa para para todo valor k real diferente a: ', valores)"
      ],
      "metadata": {
        "id": "9ZJF41zmBIej",
        "colab": {
          "base_uri": "https://localhost:8080/"
        },
        "outputId": "939ffc49-c638-4020-f8d4-28ab35fe3e36"
      },
      "execution_count": null,
      "outputs": [
        {
          "output_type": "stream",
          "name": "stdout",
          "text": [
            "a) Determinante de A:  -30*k**2 - 228*k + 20\n",
            "A tiene inversa para para todo valor k real diferente a:  [-19/5 + sqrt(3399)/15, -sqrt(3399)/15 - 19/5]\n"
          ]
        }
      ]
    },
    {
      "cell_type": "code",
      "source": [
        "# Solución Ejercicio 3. (No olvide imprimir las respuestas de sus cálculos)\n",
        "\n",
        "# (b):\n",
        "\n",
        "# Ecuación det A = 2k - 5\n",
        "# det A - (2k - 5) = 0\n",
        "ecuacion = det_A - (2*k - 5)\n",
        "\n",
        "# resolver valores\n",
        "valores_b = sp.solve(ecuacion, k)\n",
        "\n",
        "print('b) Los valores de k que satisfacen det(A) = 2k - 5 son:', valores_b)"
      ],
      "metadata": {
        "id": "X4I1TKXTBJz6",
        "colab": {
          "base_uri": "https://localhost:8080/"
        },
        "outputId": "2b0f7e6f-009b-42ab-d93e-9445b5d4989c"
      },
      "execution_count": null,
      "outputs": [
        {
          "output_type": "stream",
          "name": "stdout",
          "text": [
            "b) Los valores de k que satisfacen det(A) = 2k - 5 son: [-23/6 + sqrt(559)/6, -sqrt(559)/6 - 23/6]\n"
          ]
        }
      ]
    },
    {
      "cell_type": "markdown",
      "metadata": {
        "id": "S8_KgC0JzPpj"
      },
      "source": [
        "\n",
        "### **Ejercicio #4: (0.7)**\n",
        "Sean $A(x_1,y_1), \\ B(x_2,y_2)$ y $C(x_3,y_3)$ tres puntos en el plano $xy$. El área del triángulo formado por dichos puntos $A,B,C$ es dada por la expresión  \n",
        "\n",
        "\\begin{equation*}\n",
        " \\mbox{Área} = \\frac{1}{2} \\left | \\det\n",
        "\\begin{pmatrix}\n",
        "x_1 & y_1 & 1\\\\\n",
        "x_2 & y_2 & 1 \\\\\n",
        "x_3 & y_3 & 1\n",
        "\\end{pmatrix} \\right|,\n",
        "\\end{equation*}\n",
        "\n",
        "donde el símbolo $|.|$ denota el valor absoluto.\n",
        "\n",
        "a). **(0.3)** Sean $A(-2,-4), \\ B(6,3)$ y $C(-6,5)$. Halle el área del triángulo formado por los puntos $A, \\ B, \\ C$.  \n",
        "\n",
        "b). **(0.4)**  ¿Para qué valores de $k$ el **cuadrado del área del triángulo** formado por los puntos $A(-4,k), \\ B(k,-1)$ y $C(k,2)$ es igual a $9 \\ \\mbox{cm}^4$?"
      ]
    },
    {
      "cell_type": "code",
      "execution_count": 106,
      "metadata": {
        "id": "8-ZGhYEizqp0",
        "colab": {
          "base_uri": "https://localhost:8080/",
          "height": 0
        },
        "outputId": "8f73b8db-5d40-473b-af96-4fcc61917b0c"
      },
      "outputs": [
        {
          "output_type": "stream",
          "name": "stdout",
          "text": [
            "a) El área del triángulo formado por los puntos A(-2,-4), B(6,3) y C(-6,5) es: 49.99999999999998u^2\n"
          ]
        }
      ],
      "source": [
        "# Solución Ejercicio 4. (No olvide imprimir las respuestas de sus cálculos)\n",
        "\n",
        "# (a):\n",
        "\n",
        "import numpy as np\n",
        "\n",
        "def calcular_area_triangulo(A, B, C):\n",
        "\n",
        "    # Construir la matriz 3x3\n",
        "    matriz = np.array([\n",
        "        [A[0], A[1], 1],\n",
        "        [B[0], B[1], 1],\n",
        "        [C[0], C[1], 1]\n",
        "    ])\n",
        "\n",
        "    # Calcular el determinante y el área\n",
        "    det = np.linalg.det(matriz)\n",
        "    area = 0.5 * abs(det)\n",
        "\n",
        "    return area\n",
        "\n",
        "# Puntos dados en el problema\n",
        "A = (-2, -4)\n",
        "B = (6, 3)\n",
        "C = (-6, 5)\n",
        "\n",
        "# Calcular y mostrar el área\n",
        "area = calcular_area_triangulo(A, B, C)\n",
        "print(f\"a) El área del triángulo formado por los puntos A(-2,-4), B(6,3) y C(-6,5) es: {area}u^2\")"
      ]
    },
    {
      "cell_type": "code",
      "execution_count": 104,
      "metadata": {
        "id": "tLMBJnxIfdgs",
        "colab": {
          "base_uri": "https://localhost:8080/",
          "height": 0
        },
        "outputId": "6bdb67e6-7baa-4ef1-c280-d6e16e361429"
      },
      "outputs": [
        {
          "output_type": "stream",
          "name": "stdout",
          "text": [
            "b) Los valores de k que hacen que el cuadrado del área sea 9 cm⁴ son:\n",
            "k = -6.00000000000000\n",
            "k = -2.00000000000000\n"
          ]
        }
      ],
      "source": [
        "# Solución Ejercicio 4. (No olvide imprimir las respuestas de sus cálculos)\n",
        "\n",
        "# (b):\n",
        "\n",
        "from sympy import symbols, Eq, solve\n",
        "\n",
        "def encontrar_valores_k():\n",
        "\n",
        "    k = symbols('k')\n",
        "\n",
        "    # Definir los puntos con k como variable\n",
        "    A = (-4, k)\n",
        "    B = (k, -1)\n",
        "    C = (k, 2)\n",
        "\n",
        "    # Calcular el determinante manualmente\n",
        "    det = (A[0]*(B[1] - C[1]) - A[1]*(B[0] - C[0]) + 1*(B[0]*C[1] - B[1]*C[0]))\n",
        "\n",
        "    # El área al cuadrado debe ser 9: (0.5*|det|)^2 = 9 => det^2 = 36\n",
        "    ecuacion = Eq(det**2, 36)\n",
        "\n",
        "    # Resolver la ecuación\n",
        "    soluciones = solve(ecuacion, k)\n",
        "\n",
        "    print(\"b) Los valores de k que hacen que el cuadrado del área sea 9 cm⁴ son:\")\n",
        "    for sol in soluciones:\n",
        "        print(f\"k = {sol.evalf()}\")\n",
        "\n",
        "# Ejecutar la función\n",
        "encontrar_valores_k()"
      ]
    },
    {
      "cell_type": "markdown",
      "metadata": {
        "id": "NIHkg4fCYC8F"
      },
      "source": [
        "### **Ejercicio #5: (0.7)**\n",
        "Considere el conjunto de vectores de $\\mathbb{R}^6$:\n",
        "\n",
        "$$ S = \\{ (1, 1, 1, -1, 0, 1), (1, 0, -1, 0, -1, 0), (0, 0, 0, -1, -2, 0), (1, 1, 0, -1, 0, 1),(0, 0, 1, 1, 1,-1), (0,1,1,-1, 0,1)\\}.     $$\n",
        "\n",
        "(a). **(0.3)** Muestre que dicho conjunto $S$ es una base para $\\mathbb{R}^6$.\n",
        "\n",
        "(b). **(0.4)** Determinar las coordenadas del vector $(3, 7, -2,0,8,-5)$ en dicha base."
      ]
    },
    {
      "cell_type": "code",
      "execution_count": 108,
      "metadata": {
        "id": "mI0rBpuohZog",
        "colab": {
          "base_uri": "https://localhost:8080/",
          "height": 0
        },
        "outputId": "5a8f4d3b-fa47-4189-f6d8-0d214776d3a7"
      },
      "outputs": [
        {
          "output_type": "stream",
          "name": "stdout",
          "text": [
            "a) det_S = -1.0\n",
            "Para probar que el conjunto S forma una base para ℝ⁶ es suficiente mostrar que el conjunto es linealmente independiente.\n",
            "Como el determinante NO es nulo, podemos concluir que S es una base para ℝ⁶\n",
            "\n",
            "El conjunto S es una base para ℝ⁶ porque tiene 6 vectores linealmente independientes.\n"
          ]
        }
      ],
      "source": [
        "# Solución Ejercicio 5.\n",
        "\n",
        "### a). Verificar si el conjunto S es una base de ℝ⁶\n",
        "\n",
        "import numpy as np\n",
        "\n",
        "# Se define la matriz cuyas columnas son los vectores del conjunto S\n",
        "# Base S con vectores como COLUMNAS\n",
        "S = np.array([\n",
        "    [1, 1, 0, 1, 0, 0],   # Primera componente de cada vector\n",
        "    [1, 0, 0, 1, 0, 1],   # Segunda componente\n",
        "    [1, -1, 0, 0, 1, 1],  # Tercera componente\n",
        "    [-1, 0, -1, -1, 1, -1], # Cuarta componente\n",
        "    [0, -1, -2, 0, 1, 0], # Quinta componente\n",
        "    [1, 0, 0, 1, -1, 1]    # Sexta componente\n",
        "]).T  # Transponemos para que cada vector sea una columna\n",
        "\n",
        "det_S = np.linalg.det(S)\n",
        "\n",
        "# Imprimo el valor del determinante\n",
        "print('a) det_S =', det_S)\n",
        "print(\"Para probar que el conjunto S forma una base para ℝ⁶ es suficiente mostrar que el conjunto es linealmente independiente.\" +\n",
        "      \"\\nComo el determinante NO es nulo, podemos concluir que S es una base para ℝ⁶\")\n",
        "\n",
        "# Tambien lo podemos mostrar con el rango. Calculamos el rango de la matriz\n",
        "rango = np.linalg.matrix_rank(S)\n",
        "\n",
        "# Si el rango es 6 (máximo en ℝ⁶), entonces es base\n",
        "if rango == 6:\n",
        "  print(\"\\nEl conjunto S es una base para ℝ⁶ porque tiene 6 vectores linealmente independientes.\")\n",
        "else:\n",
        "  print(f\"El conjunto S NO es una base para ℝ⁶. Rango obtenido: {rango}\")"
      ]
    },
    {
      "cell_type": "code",
      "execution_count": 99,
      "metadata": {
        "id": "DHe_R20Xi3RK",
        "colab": {
          "base_uri": "https://localhost:8080/",
          "height": 0
        },
        "outputId": "582268e7-9b91-4846-b2f6-478fec7fe5e3"
      },
      "outputs": [
        {
          "output_type": "stream",
          "name": "stdout",
          "text": [
            "b) Coordenadas del vector v en la base S:\n",
            "c_1 = 8.0\n",
            "c_2 = -1.0\n",
            "c_3 = 3.0\n",
            "c_4 = 6.0\n",
            "c_5 = -2.0\n",
            "c_6 = -1.0\n",
            "\n",
            "Verificación (S @ c): [ 3.  7. -2.  0.  8. -5.]\n"
          ]
        }
      ],
      "source": [
        "# Solución Ejercicio 5. (No olvide imprimir las respuestas de sus cálculos)\n",
        "\n",
        "# (b): Determinar las coordenadas del vector (3,7,−2,0,8,−5) en dicha base.\n",
        "\n",
        "# Definimos el vector objetivo cuyas coordenadas queremos hallar en la base S\n",
        "# Definimos la base S con los vectores como COLUMNAS\n",
        "import numpy as np\n",
        "S = np.array([\n",
        "    [1, 1, 0, 1, 0, 0],   # Primera componente de cada vector\n",
        "    [1, 0, 0, 1, 0, 1],   # Segunda componente\n",
        "    [1, -1, 0, 0, 1, 1],  # Tercera componente\n",
        "    [-1, 0, -1, -1, 1, -1], # Cuarta componente\n",
        "    [0, -1, -2, 0, 1, 0], # Quinta componente\n",
        "    [1, 0, 0, 1, -1, 1]    # Sexta componente\n",
        "]).T  # Transponemos para que cada vector sea una columna\n",
        "\n",
        "# Vector v que queremos expresar en la base S\n",
        "v = np.array([3, 7, -2, 0, 8, -5])\n",
        "\n",
        "# Resolvemos el sistema S*c = v para encontrar las coordenadas c\n",
        "c = np.linalg.solve(S, v)\n",
        "\n",
        "print(\"b) Coordenadas del vector v en la base S:\")\n",
        "for i, coord in enumerate(c, 1):\n",
        "    print(f\"c_{i} = {coord}\")\n",
        "\n",
        "# Verificación\n",
        "v_reconstruido = S @ c\n",
        "print(\"\\nVerificación (S @ c):\", v_reconstruido)"
      ]
    },
    {
      "cell_type": "markdown",
      "source": [
        "### **Ejercicio #6: (1.0)**\n",
        "Considere el conjunto\n",
        "\n",
        "$$ V= \\{ \\textbf{u} = (u_1,u_2):  u_{1},u_{2} \\in \\mathbb{R} \\}.$$\n",
        "\n",
        "Para  $\\textbf{u} = (u_1,u_2)$, $\\textbf{w} = (w_1,w_2)$ en  $V$ y $\\alpha \\in \\mathbb{R}$ se definen  las operaciones:\n",
        "\n",
        "$$\\textbf{u} \\oplus \\textbf{w} := (u_1 + w_1 + 2,u_2 + w_2 + 2),$$\n",
        "\n",
        "$$ \\alpha \\odot \\textbf{u} := (\\alpha + \\alpha u_1 -1,\\alpha + \\alpha u_2 -1).   $$\n",
        "\n",
        "a). **(0.2)** Muestre que el elemento neutro aditivo es $\\textbf{0} = (-2,-2)$,  verificando la igualdad $\\textbf{0} \\oplus (15,23) = (15,23).$\n",
        "\n",
        "b). **(0.3)** Halle $  6 \\odot [(4,-16)\\oplus (7,10)]. $\n",
        "\n",
        "c).**(0.3)** Halle $  6 \\odot (4,-16) \\oplus 6 \\odot (7,10). $\n",
        "\n",
        "d). **(0.2)** ¿Es $V$, con esas operaciones definidas, un espacio vectorial?\n"
      ],
      "metadata": {
        "id": "MmaCYGL7Faaa"
      }
    },
    {
      "cell_type": "code",
      "source": [
        "#########---------- Ejecutar esta parte antes de dar respuestas a las preguntas-----------#########\n",
        "\n",
        "# NOTA: Las operaciones suma y producto aqui definidas pueden ser calculadas  mediante las siguientes funciones:\n",
        "\n",
        "SUMA = lambda u,w:  np.array([[u[0,0] + w[0,0] + 2, u[0,1] + w[0,1] + 2]])\n",
        "\n",
        "# La función SUMA recibe como entradas los elementos u,w y devuelve como resultado la suma según la definición.\n",
        "\n",
        "PRODUCTO = lambda alpha,u:  np.array([[alpha + alpha*u[0,0] - 1, alpha + alpha*u[0,1] - 1]])\n",
        "\n",
        "# La función PRODUCTO recibe como entradas un número real alpha y un elemento u de V, y da como resultado el producto por un escalar según la definición.\n",
        "\n",
        "# Ejemplo: Hallemos la suma de u = (2,7) con w = (0,4).\n",
        "\n",
        "u = np.array([[2, 7]])\n",
        "\n",
        "w = np.array([[0, 4]])\n",
        "\n",
        "Sol = SUMA(u,w)\n",
        "\n",
        "print('Sol =', Sol)\n"
      ],
      "metadata": {
        "id": "ydoGkIz8D4S7",
        "colab": {
          "base_uri": "https://localhost:8080/"
        },
        "outputId": "a101444a-36e7-4b78-fa2e-5e67d44e06b1"
      },
      "execution_count": null,
      "outputs": [
        {
          "output_type": "stream",
          "name": "stdout",
          "text": [
            "Sol = [[ 4 13]]\n"
          ]
        }
      ]
    },
    {
      "cell_type": "code",
      "source": [
        "# Solución Ejercicio 6. (No olvide imprimir las respuestas de sus cálculos)\n",
        "\n",
        "# Debe usar en sus respuestas la función antes definida\n",
        "\n",
        "# (a):\n",
        "import numpy as np\n",
        "\n",
        "# Verificación de que el vector O = (-2, -2) es el elemento neutro aditivo:\n",
        "# Esto se cumple si O ⊕ u = u para cualquier u\n",
        "O = np.array([-2, -2])        # Candidato a elemento neutro aditivo\n",
        "u = np.array([15, 23])        # Vector de prueba\n",
        "\n",
        "# Aplicamos la operación ⊕\n",
        "resultado = SUMA(O, u)\n",
        "\n",
        "# Mostramos el resultado esperado\n",
        "print(f\"a) O ⊕ u = {resultado} (debe ser [15, 23])\")"
      ],
      "metadata": {
        "id": "Ck4h0EphZ0A0",
        "colab": {
          "base_uri": "https://localhost:8080/"
        },
        "outputId": "8c6e3765-154d-481d-d602-4e48bb7fde16"
      },
      "execution_count": null,
      "outputs": [
        {
          "output_type": "stream",
          "name": "stdout",
          "text": [
            "a) O ⊕ u = [15 23] (debe ser [15, 23])\n"
          ]
        }
      ]
    },
    {
      "cell_type": "code",
      "source": [
        "# Solución Ejercicio 6. (No olvide imprimir las respuestas de sus cálculos)\n",
        "\n",
        "# Debe usar en sus respuestas las funciones antes definida\n",
        "\n",
        "# (b):\n",
        "\n",
        "# Definimos los vectores involucrados en la operación\n",
        "v1 = np.array([4, -16])\n",
        "v2 = np.array([7, 10])\n",
        "\n",
        "# Primero realizamos la suma definida como ⊕:\n",
        "# (4, -16) ⊕ (7, 10) = (4 + 7 + 2, -16 + 10 + 2) = (13, -4)\n",
        "suma = SUMA(v1, v2)\n",
        "\n",
        "# Luego aplicamos el producto escalar definido como ⊙ con α = 6:\n",
        "# 6 ⊙ (13, -4) = (6 + 6*13 - 1, 6 + 6*(-4) - 1) = (6 + 78 - 1, 6 - 24 - 1) = (83, -19)\n",
        "resultado_b = PRODUCTO(6, suma)\n",
        "\n",
        "# Mostramos el resultado final\n",
        "print(f\"b) 6 ⊙ [(4,-16) ⊕ (7,10)] = {resultado_b}\")\n"
      ],
      "metadata": {
        "id": "6QoTCyXrD79D",
        "colab": {
          "base_uri": "https://localhost:8080/"
        },
        "outputId": "e146cb8f-0d80-4489-ba2e-b7d97ad69a9e"
      },
      "execution_count": null,
      "outputs": [
        {
          "output_type": "stream",
          "name": "stdout",
          "text": [
            "b) 6 ⊙ [(4,-16) ⊕ (7,10)] = [ 83 -19]\n"
          ]
        }
      ]
    },
    {
      "cell_type": "code",
      "source": [
        "# Solución Ejercicio 6. (No olvide imprimir las respuestas de sus cálculos)\n",
        "\n",
        "# Debe usar en sus respuestas la función antes definida\n",
        "\n",
        "# (c):\n",
        "\n",
        "# Aplicamos el producto escalar ⊙ con α = 6 a cada vector por separado\n",
        "# 6 ⊙ (4, -16) = (6 + 6*4 - 1, 6 + 6*(-16) - 1) = (29, -91)\n",
        "prod1 = PRODUCTO(6, v1)\n",
        "\n",
        "# 6 ⊙ (7, 10) = (6 + 6*7 - 1, 6 + 6*10 - 1) = (47, 65)\n",
        "prod2 = PRODUCTO(6, v2)\n",
        "\n",
        "# Luego sumamos ambos resultados usando la suma definida como ⊕:\n",
        "# (29, -91) ⊕ (47, 65) = (29 + 47 + 2, -91 + 65 + 2) = (78, -24)\n",
        "resultado_c = SUMA(prod1, prod2)\n",
        "\n",
        "# Mostramos el resultado final\n",
        "print(f\"c) 6 ⊙ (4,-16)  ⊕  6 ⊙ (7,10) = {resultado_c}\")\n"
      ],
      "metadata": {
        "id": "eLpxaKeGECTT",
        "colab": {
          "base_uri": "https://localhost:8080/"
        },
        "outputId": "e7926180-8d0e-44dd-8b76-e441bc5dac16"
      },
      "execution_count": null,
      "outputs": [
        {
          "output_type": "stream",
          "name": "stdout",
          "text": [
            "c) 6 ⊙ (4,-16)  ⊕  6 ⊙ (7,10) = [ 78 -24]\n"
          ]
        }
      ]
    },
    {
      "cell_type": "code",
      "source": [
        "# Solución Ejercicio 6. (No olvide imprimir las respuestas de sus cálculos)\n",
        "\n",
        "# Parte d) Verificación de propiedades\n",
        "\n",
        "# Imprimimos encabezado para esta parte\n",
        "print(\"\\nd) Análisis de propiedades:\")\n",
        "\n",
        "# Comparamos los resultados obtenidos en las partes b) y c)\n",
        "# En un espacio vectorial, debe cumplirse la propiedad distributiva del producto escalar:\n",
        "# α ⊙ (u ⊕ w) = (α ⊙ u) ⊕ (α ⊙ w)\n",
        "# Es decir, el resultado de la parte b) debe ser igual al de la parte c)\n",
        "print(f\"¿Distributiva? Parte b) {resultado_b} vs Parte c) {resultado_c}\")\n",
        "\n",
        "# Como los resultados son distintos, se concluye que la propiedad distributiva no se cumple\n",
        "# Por lo tanto, V con estas operaciones NO es un espacio vectorial\n",
        "print(\"Como no son iguales, NO es espacio vectorial (falla distributividad)\")\n"
      ],
      "metadata": {
        "id": "ECmD6eNydVz-",
        "colab": {
          "base_uri": "https://localhost:8080/"
        },
        "outputId": "bfbe6a46-c608-492c-b687-a08851e7a818"
      },
      "execution_count": null,
      "outputs": [
        {
          "output_type": "stream",
          "name": "stdout",
          "text": [
            "\n",
            "d) Análisis de propiedades:\n",
            "¿Distributiva? Parte b) [ 83 -19] vs Parte c) [ 78 -24]\n",
            "Como no son iguales, NO es espacio vectorial (falla distributividad)\n"
          ]
        }
      ]
    }
  ],
  "metadata": {
    "colab": {
      "provenance": [],
      "include_colab_link": true
    },
    "kernelspec": {
      "display_name": "Python 3",
      "name": "python3"
    },
    "language_info": {
      "name": "python"
    }
  },
  "nbformat": 4,
  "nbformat_minor": 0
}