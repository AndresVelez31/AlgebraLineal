{
  "cells": [
    {
      "cell_type": "markdown",
      "metadata": {
        "id": "view-in-github",
        "colab_type": "text"
      },
      "source": [
        "<a href=\"https://colab.research.google.com/github/AndresVelez31/AlgebraLineal/blob/main/Laboratorio_Python_Grupo_6.ipynb\" target=\"_parent\"><img src=\"https://colab.research.google.com/assets/colab-badge.svg\" alt=\"Open In Colab\"/></a>"
      ]
    },
    {
      "cell_type": "markdown",
      "metadata": {
        "id": "yJTXJoSyfUoW"
      },
      "source": [
        "\n",
        "#**Laboratorio (6%)**\n",
        "\n",
        "**Instrucciones:** El presente trabajo consta de seis (6) problemas cada uno con un valor asignado. El profesor del curso es el encargado de calificar el trabajo, y para ello tendrá en cuenta el  procedimiento realizado (que debe mostrar el estudiante) y las respectivas respuestas a los ejercicios. Por favor, **comentar de forma organizada y coherente** los pasos realizados.\n",
        "\n",
        "\n",
        " El laboratorio **debe ser realizado en grupos, con el número máximo integrantes definido por el profesor**. Se debe entregar un solo documento por grupo, y dentro del mismo **debe aparecer de forma clara el nombre completo de todos los integrantes**.  Ver espacio a continuación.\n",
        "\n",
        "\n",
        "**Formato de entrega:** Para la entrega de este trabajo, descargue el archivo en **formato PDF** (esto lo consigue con la combinación de teclas **ctrl + p** y guardando el archivo en el formato requerido) y enviarlo a través de Interactiva en el buzón designado para ello.\n",
        "\n",
        "**NOTA:** Revisar el documento antes de enviarlo. Asegúrese de que el documento sea legible y tenga todos los procedimientos con las respuestas impresas de los cálculos realizados."
      ]
    },
    {
      "cell_type": "code",
      "source": [
        "########---------------Nombre completo de los integrantes del grupo de trabajo-------------------##########\n",
        "\n",
        "# Integrante 1:\n",
        "\n",
        "# Integrante 2:\n",
        "\n",
        "# Integrante 3: Tomas Ramirez Galeano\n",
        "\n",
        "# Integrante 4:\n",
        "\n",
        "# Integrante 5:\n"
      ],
      "metadata": {
        "id": "SqCxN8OxHRCv"
      },
      "execution_count": null,
      "outputs": []
    },
    {
      "cell_type": "markdown",
      "source": [
        "### **Ejercicio #1: (0.8)**\n",
        "Dados los siguientes vectores\n",
        "\n",
        "\\begin{equation*}\n",
        " \\vec{u} = (20, 15, 1),\n",
        " \\hspace{0.5cm}\n",
        " \\vec{v} = (18, -1, 30),\n",
        "\\hspace{0.5cm}\n",
        " \\vec{w} = (30, -6, 71),\n",
        " \\hspace{0.5cm}\n",
        " \\vec{z} = (13, -4, 28),\n",
        "\\end{equation*}\n",
        "\n",
        "realizar las operaciones indicadas:\n",
        "\n",
        "a). **(0.2)** $ (\\vec{u} + \\vec{z}- \\vec{v}) \\cdot (\\vec{z}-3\\vec{w} + \\vec{v}).$\n",
        "\n",
        "b). **(0.2)** $\\| \\vec{z}- \\vec{w}\\|- \\|\\vec{w} \\times \\vec{u}\\|.$\n",
        "\n",
        "c). **(0.2)** $\\|\\vec{u}\\|(\\vec{v} + \\vec{z}) + \\| 2\\vec{z}- 3\\vec{w}\\|\\vec{z}.$\n",
        "\n",
        "d). **(0.2)** Hallar dos vectores $\\vec{p}$ y $\\vec{h}$ tales que $\\vec{v} = \\vec{p} + \\vec{h}$ con $\\vec{p}$ paralelo a $\\vec{u}$ y $\\vec{h}$ ortogonal a $\\vec{u}$."
      ],
      "metadata": {
        "id": "2jtyOiAj7AI_"
      }
    },
    {
      "cell_type": "code",
      "source": [
        "# Solución Ejercicio 1. (No olvide imprimir las respuestas de sus cálculos)\n",
        "\n",
        "# Importar la bibliotecas numpy con el alias np y math.\n",
        "import numpy as np\n",
        "import math\n",
        "\n",
        "# Definir los vectores u,v,w,z\n",
        "u = np.array([20, 15, 1])\n",
        "v = np.array([18, -1, 30])\n",
        "w = np.array([30, -6, 71])\n",
        "z = np.array([13, -4, 28])\n",
        "\n",
        "# (a):\n",
        "a = (u + z - v) @ (z - (3*w) + v)\n",
        "print(\"a: \", a)\n",
        "\n",
        "# (b):\n",
        "b = np.linalg.norm(z - w) - np.linalg.norm(np.cross(w, u))\n",
        "print(\"b: \", b)\n",
        "\n",
        "# (c):\n",
        "c = np.linalg.norm(u) * (v + z) + np.linalg.norm(2*z - 3*w) * z\n",
        "print(\"c: \", c)\n",
        "\n",
        "# (d):\n",
        "# Para que p sea paralelo a u, debe ser un escalar multiplicado por u\n",
        "# Para encontrar este escalar, usamos la proyección de v sobre u\n",
        "# El escalar es (v·u)/(u·u)\n",
        "escalar = (v @ u) / (u @ u)\n",
        "p = escalar * u\n",
        "\n",
        "# h es la parte de v que es ortogonal a u\n",
        "# h = v - p\n",
        "h = v - p\n",
        "\n",
        "# Verificamos que h sea ortogonal a u\n",
        "producto_punto = np.dot(h, u)\n",
        "print(f\"escalar = {escalar}\")\n",
        "print(f\"Vector p (paralelo a u): {p}\")\n",
        "print(f\"Vector h (ortogonal a u): {h}\")\n"
      ],
      "metadata": {
        "id": "AhvVewck8k6S",
        "colab": {
          "base_uri": "https://localhost:8080/"
        },
        "outputId": "5519cec0-0099-4306-d631-e75d81f744f8"
      },
      "execution_count": null,
      "outputs": [
        {
          "output_type": "stream",
          "name": "stdout",
          "text": [
            "a:  -574\n",
            "b:  -1798.7225901766406\n",
            "c:  [2983.51580953 -804.45259306 6206.62796756]\n",
            "escalar = 0.5990415335463258\n",
            "Vector p (paralelo a u): [11.98083067  8.985623    0.59904153]\n",
            "Vector h (ortogonal a u): [ 6.01916933 -9.985623   29.40095847]\n"
          ]
        }
      ]
    },
    {
      "cell_type": "markdown",
      "source": [
        "### **Ejercicio #2. (1.2)**\n",
        "Ana ha decidido enviarle un mensaje codificado a Pedro a través del **método Hill**. El mensaje codificado es:\n",
        "\n",
        "0, -7, 8, 23, -15, 0, -16, -23, -3, 14, -16, -3, 23, 11, 13, -15, 7, 2, -11, -15, 1,   15, 0, 5, 92, 51, 160, -1, 129, 90, 50, 97, 25, 52, 152, 13, 107, 11, 83, 183, 87, 84, 141, 109, 67, 105, 54, 99, 124, 59, 144, 43, 113, 54, 30, 105, 7,  100, 166, -11, 155, 37, 87, 191, 105, 88, 119, 111, 53, 143, 72, 95, -68, -42, -112,  -10, -82, -52, -8, -72, 34, -58, -126, 46, -122, -12, -56, -166, -56, -48, -98, -70,  -44, -118, -16, -48, 68, 49, 104, -7, 97, 62, 38, 79, 23, 24, 98, 11, 51, 1, 55, 127,   45, 66, 85, 83, 49, 65, 28, 67\n",
        "\n",
        "\n",
        "Para el proceso de codificacion, Ana tuvo presente la siguiente información:\n",
        "\n",
        "1. Llave de codificación: 0, 0, 1, -1, 0, 0, 4, -1, 1, 2, -2, 4, 1, 1, 2, 2, -4, 0, 0, -2, 0, 2, -1, 1, 2.\n",
        "2. Dimensión de la matriz de codificación $5 \\times 5$.\n",
        "\n",
        "a). **(0.4)** Cree e imprima la matriz de codificación $A$, y la matriz codificada $C$.\n",
        "\n",
        "b). **(0.4)** Cree e imprima la matriz plana $B$ (matriz que contiene el mensaje que se desea codificar).\n",
        "\n",
        "c). **(0.4)** ¿Cuál es el mensaje que le envío Ana a Pedro?\n",
        "\n",
        "\n",
        "**NOTA:** Remitirse a la **Guía # 3** en la cual se explica el Método Hill."
      ],
      "metadata": {
        "id": "n1J7x5-B5qXy"
      }
    },
    {
      "cell_type": "code",
      "source": [
        "# Solución ejercicio 2. (No olvide imprimir las respuestas de sus cálculos)\n",
        "\n",
        "# Importar la biblioteca numpy con el alias np.\n",
        "import numpy as np\n",
        "\n",
        "# Definir e imprimir las matrices A y C\n",
        "\n",
        "# (a):\n",
        "\n",
        "# Imprimir las respuestas\n"
      ],
      "metadata": {
        "id": "ottQmDsv9yHS"
      },
      "execution_count": null,
      "outputs": []
    },
    {
      "cell_type": "code",
      "source": [
        "# Definir e imprimir la matriz B\n",
        "\n",
        "# (b):\n",
        "\n",
        "# Imprimir las respuestas\n"
      ],
      "metadata": {
        "id": "JOEngwv5-eLy"
      },
      "execution_count": null,
      "outputs": []
    },
    {
      "cell_type": "code",
      "source": [
        "# Mensaje que envío Ana a Pedro\n",
        "\n",
        "#(c):\n"
      ],
      "metadata": {
        "id": "HX2O8SpnxOb7"
      },
      "execution_count": null,
      "outputs": []
    },
    {
      "cell_type": "markdown",
      "source": [
        "### **Ejercicio #3: (0.6)**\n",
        "Considere la matriz\n",
        "\n",
        "\\begin{equation*}\n",
        " A =\n",
        "\\begin{pmatrix}\n",
        " -k & k-1 & k+1 & k & 0\\\\\n",
        "1 & 2 & -2 & -1 & 1\\\\\n",
        "4-k & k & k+3 & -k & 1\\\\\n",
        "-2 & 3 & 4 & 6 & 2\\\\\n",
        "0 & 2 & 1 & 0 & 4\n",
        "\\end{pmatrix}.\n",
        "\\end{equation*} \\\n",
        "\n",
        "\n",
        "a). **(0.3)**  Halle los valores de $k$ para los cuales la matriz $A$ tiene inversa.\n",
        "\n",
        "b). **(0.3)**  Halle los valores de $k$ para los cuales $\\det(A) = 2k-5$.\n"
      ],
      "metadata": {
        "id": "vwH_0o0eAm_r"
      }
    },
    {
      "cell_type": "code",
      "source": [
        "# Solución Ejercicio 3. (No olvide imprimir las respuestas de sus cálculos)\n",
        "\n",
        "# (a):\n",
        "import sympy as sp\n",
        "k = sp.Symbol('k')\n",
        "\n",
        "# Matriz A\n",
        "A = sp.Matrix([\n",
        "    [-k, k-1, k+1, k, 0],\n",
        "    [1, 2, -2, -1, 1],\n",
        "    [4-k, k, k+3, -k, 1],\n",
        "    [-2, 3, 4, 6, 2],\n",
        "    [0, 2, 1, 0, 4]\n",
        "])\n",
        "\n",
        "# determinante\n",
        "\n",
        "det_A = A.det()\n",
        "print(\"determinante de A: \", det_A)\n",
        "\n",
        "# resolver det A = 0 para k\n",
        "\n",
        "valores = sp.solve(det_A, k)\n",
        "\n",
        "# soluciones\n",
        "\n",
        "print('A tiene inversa para para todo valor k real diferente a: ', valores)\n",
        "\n"
      ],
      "metadata": {
        "id": "9ZJF41zmBIej",
        "colab": {
          "base_uri": "https://localhost:8080/"
        },
        "outputId": "5a27e9a2-d40b-45eb-90e4-2e66eb3af591"
      },
      "execution_count": null,
      "outputs": [
        {
          "output_type": "stream",
          "name": "stdout",
          "text": [
            "determinante de A:  -30*k**2 - 228*k + 20\n",
            "A tiene inversa para para todo valor k real diferente a:  [-19/5 + sqrt(3399)/15, -sqrt(3399)/15 - 19/5]\n"
          ]
        }
      ]
    },
    {
      "cell_type": "code",
      "source": [
        "# Solución Ejercicio 3. (No olvide imprimir las respuestas de sus cálculos)\n",
        "\n",
        "# (b):\n",
        "\n",
        "# ecuación det A = 2k - 5\n",
        "ecuacion = det_A - (2*k - 5)\n",
        "\n",
        "print(\"ecuacion = \", ecuacion)\n",
        "\n",
        "# resolver valores\n",
        "valores_b = sp.solve(ecuacion, k)\n",
        "\n",
        "print('A tiene inversa para para todo valor k real diferente a: ', valores_b)\n",
        "\n"
      ],
      "metadata": {
        "id": "X4I1TKXTBJz6",
        "colab": {
          "base_uri": "https://localhost:8080/"
        },
        "outputId": "b60fe11b-c48e-43ce-e538-fe3f6c1f6cb9"
      },
      "execution_count": null,
      "outputs": [
        {
          "output_type": "stream",
          "name": "stdout",
          "text": [
            "ecuacion =  -30*k**2 - 230*k + 25\n",
            "A tiene inversa para para todo valor k real diferente a:  [-23/6 + sqrt(559)/6, -sqrt(559)/6 - 23/6]\n"
          ]
        }
      ]
    },
    {
      "cell_type": "markdown",
      "metadata": {
        "id": "S8_KgC0JzPpj"
      },
      "source": [
        "\n",
        "### **Ejercicio #4: (0.7)**\n",
        "Sean $A(x_1,y_1), \\ B(x_2,y_2)$ y $C(x_3,y_3)$ tres puntos en el plano $xy$. El área del triángulo formado por dichos puntos $A,B,C$ es dada por la expresión  \n",
        "\n",
        "\\begin{equation*}\n",
        " \\mbox{Área} = \\frac{1}{2} \\left | \\det\n",
        "\\begin{pmatrix}\n",
        "x_1 & y_1 & 1\\\\\n",
        "x_2 & y_2 & 1 \\\\\n",
        "x_3 & y_3 & 1\n",
        "\\end{pmatrix} \\right|,\n",
        "\\end{equation*}\n",
        "\n",
        "donde el símbolo $|.|$ denota el valor absoluto.\n",
        "\n",
        "a). **(0.3)** Sean $A(-2,-4), \\ B(6,3)$ y $C(-6,5)$. Halle el área del triángulo formado por los puntos $A, \\ B, \\ C$.  \n",
        "\n",
        "b). **(0.4)**  ¿Para qué valores de $k$ el **cuadrado del área del triángulo** formado por los puntos $A(-4,k), \\ B(k,-1)$ y $C(k,2)$ es igual a $9 \\ \\mbox{cm}^4$?"
      ]
    },
    {
      "cell_type": "code",
      "execution_count": null,
      "metadata": {
        "id": "8-ZGhYEizqp0"
      },
      "outputs": [],
      "source": [
        "# Solución Ejercicio 4. (No olvide imprimir las respuestas de sus cálculos)\n",
        "\n",
        "# (a):\n"
      ]
    },
    {
      "cell_type": "code",
      "execution_count": null,
      "metadata": {
        "id": "tLMBJnxIfdgs"
      },
      "outputs": [],
      "source": [
        "# Solución Ejercicio 4. (No olvide imprimir las respuestas de sus cálculos)\n",
        "\n",
        "# (b):\n"
      ]
    },
    {
      "cell_type": "markdown",
      "metadata": {
        "id": "NIHkg4fCYC8F"
      },
      "source": [
        "### **Ejercicio #5: (0.7)**\n",
        "Considere el conjunto de vectores de $\\mathbb{R}^6$:\n",
        "\n",
        "$$ S = \\{ (1, 1, 1, -1, 0, 1), (1, 0, -1, 0, -1, 0), (0, 0, 0, -1, -2, 0), (1, 1, 0, -1, 0, 1),(0, 0, 1, 1, 1,-1), (0,1,1,-1, 0,1)\\}.     $$\n",
        "\n",
        "(a). **(0.3)** Muestre que dicho conjunto $S$ es una base para $\\mathbb{R}^6$.\n",
        "\n",
        "(b). **(0.4)** Determinar las coordenadas del vector $(3, 7, -2,0,8,-5)$ en dicha base."
      ]
    },
    {
      "cell_type": "code",
      "execution_count": null,
      "metadata": {
        "id": "mI0rBpuohZog"
      },
      "outputs": [],
      "source": [
        "# Solución Ejercicio 5. (No olvide imprimir las respuestas de sus cálculos)\n",
        "\n",
        "# (a):\n"
      ]
    },
    {
      "cell_type": "code",
      "execution_count": null,
      "metadata": {
        "id": "DHe_R20Xi3RK"
      },
      "outputs": [],
      "source": [
        "# Solución Ejercicio 5. (No olvide imprimir las respuestas de sus cálculos)\n",
        "\n",
        "# (b):\n"
      ]
    },
    {
      "cell_type": "markdown",
      "source": [
        "### **Ejercicio #6: (1.0)**\n",
        "Considere el conjunto\n",
        "\n",
        "$$ V= \\{ \\textbf{u} = (u_1,u_2):  u_{1},u_{2} \\in \\mathbb{R} \\}.$$\n",
        "\n",
        "Para  $\\textbf{u} = (u_1,u_2)$, $\\textbf{w} = (w_1,w_2)$ en  $V$ y $\\alpha \\in \\mathbb{R}$ se definen  las operaciones:\n",
        "\n",
        "$$\\textbf{u} \\oplus \\textbf{w} := (u_1 + w_1 + 2,u_2 + w_2 + 2),$$\n",
        "\n",
        "$$ \\alpha \\odot \\textbf{u} := (\\alpha + \\alpha u_1 -1,\\alpha + \\alpha u_2 -1).   $$\n",
        "\n",
        "a). **(0.2)** Muestre que el elemento neutro aditivo es $\\textbf{0} = (-2,-2)$,  verificando la igualdad $\\textbf{0} \\oplus (15,23) = (15,23).$\n",
        "\n",
        "b). **(0.3)** Halle $  6 \\odot [(4,-16)\\oplus (7,10)]. $\n",
        "\n",
        "c).**(0.3)** Halle $  6 \\odot (4,-16) \\oplus 6 \\odot (7,10). $\n",
        "\n",
        "d). **(0.2)** ¿Es $V$, con esas operaciones definidas, un espacio vectorial?\n"
      ],
      "metadata": {
        "id": "MmaCYGL7Faaa"
      }
    },
    {
      "cell_type": "code",
      "source": [
        "#########---------- Ejecutar esta parte antes de dar respuestas a las preguntas-----------#########\n",
        "\n",
        "# NOTA: Las operaciones suma y producto aqui definidas pueden ser calculadas  mediante las siguientes funciones:\n",
        "\n",
        "SUMA = lambda u,w:  np.array([[u[0,0] + w[0,0] + 2, u[0,1] + w[0,1] + 2]])\n",
        "\n",
        "# La función SUMA recibe como entradas los elementos u,w y devuelve como resultado la suma según la definición.\n",
        "\n",
        "PRODUCTO = lambda alpha,u:  np.array([[alpha + alpha*u[0,0] - 1, alpha + alpha*u[0,1] - 1]])\n",
        "\n",
        "# La función PRODUCTO recibe como entradas un número real alpha y un elemento u de V, y da como resultado el producto por un escalar según la definición.\n",
        "\n",
        "# Ejemplo: Hallemos la suma de u = (2,7) con w = (0,4).\n",
        "\n",
        "u = np.array([[2, 7]])\n",
        "\n",
        "w = np.array([[0, 4]])\n",
        "\n",
        "Sol = SUMA(u,w)\n",
        "\n",
        "print('Sol =', Sol)\n"
      ],
      "metadata": {
        "id": "ydoGkIz8D4S7"
      },
      "execution_count": null,
      "outputs": []
    },
    {
      "cell_type": "code",
      "source": [
        "# Solución Ejercicio 6. (No olvide imprimir las respuestas de sus cálculos)\n",
        "\n",
        "# Debe usar en sus respuestas la función antes definida\n",
        "\n",
        "# (a):\n"
      ],
      "metadata": {
        "id": "Ck4h0EphZ0A0"
      },
      "execution_count": null,
      "outputs": []
    },
    {
      "cell_type": "code",
      "source": [
        "# Solución Ejercicio 6. (No olvide imprimir las respuestas de sus cálculos)\n",
        "\n",
        "# Debe usar en sus respuestas las funciones antes definida\n",
        "\n",
        "# (b):\n"
      ],
      "metadata": {
        "id": "6QoTCyXrD79D"
      },
      "execution_count": null,
      "outputs": []
    },
    {
      "cell_type": "code",
      "source": [
        "# Solución Ejercicio 6. (No olvide imprimir las respuestas de sus cálculos)\n",
        "\n",
        "# Debe usar en sus respuestas la función antes definida\n",
        "\n",
        "# (c):\n"
      ],
      "metadata": {
        "id": "eLpxaKeGECTT"
      },
      "execution_count": null,
      "outputs": []
    },
    {
      "cell_type": "code",
      "source": [
        "# Solución Ejercicio 6. (No olvide imprimir las respuestas de sus cálculos)\n",
        "\n",
        "# (d):\n"
      ],
      "metadata": {
        "id": "ECmD6eNydVz-"
      },
      "execution_count": null,
      "outputs": []
    }
  ],
  "metadata": {
    "colab": {
      "provenance": [],
      "include_colab_link": true
    },
    "kernelspec": {
      "display_name": "Python 3",
      "name": "python3"
    },
    "language_info": {
      "name": "python"
    }
  },
  "nbformat": 4,
  "nbformat_minor": 0
}