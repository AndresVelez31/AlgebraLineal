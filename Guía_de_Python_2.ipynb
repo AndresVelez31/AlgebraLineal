{
  "nbformat": 4,
  "nbformat_minor": 0,
  "metadata": {
    "colab": {
      "provenance": [],
      "include_colab_link": true
    },
    "kernelspec": {
      "name": "python3",
      "display_name": "Python 3"
    },
    "language_info": {
      "name": "python"
    }
  },
  "cells": [
    {
      "cell_type": "markdown",
      "metadata": {
        "id": "view-in-github",
        "colab_type": "text"
      },
      "source": [
        "<a href=\"https://colab.research.google.com/github/AndresVelez31/AlgebraLineal/blob/main/Gu%C3%ADa_de_Python_2.ipynb\" target=\"_parent\"><img src=\"https://colab.research.google.com/assets/colab-badge.svg\" alt=\"Open In Colab\"/></a>"
      ]
    },
    {
      "cell_type": "markdown",
      "source": [
        "\n",
        "# **Guía #2: Álgebra de Matrices**\n",
        "\n",
        "**Objetivo:** Usar el lenguaje de programación de Python para el desarrollo y apropiación de las propiedades básicas de las matrices.\n",
        "\n",
        "**Temas:** En esta guía se trabajarán las distintas  operaciones entre matrices como: suma, resta, multiplicación por escalar y multiplicación entre matrices; y transpuesta de una matriz.\n",
        "\n",
        "\n"
      ],
      "metadata": {
        "id": "yJTXJoSyfUoW"
      }
    },
    {
      "cell_type": "markdown",
      "source": [
        "## **Creación de matrices**\n",
        "\n",
        "Para la creación y tratado de matrices se debe llamar la biblioteca \"**numpy**\". Ésta biblioteca da soporte para crear vectores y matrices, y permite la realización de las diversas operaciones entre éstos elementos. \"**Numpy**\" generalmente se importa con el alias \"**np**\". En los siguientes ejemplos se muestra cómo llamar esta biblioteca.\n",
        "\n",
        "### **Ejemplo 1:**\n",
        "Crear las siguientes matrices:\n",
        "\n",
        "\n",
        "\n",
        "\\begin{equation*}\n",
        " A =\n",
        "\\begin{pmatrix}\n",
        "1 & 2 & 3\\\\\n",
        "-1 & 4 & 0\\\\\n",
        "-6 & 0 & 10\n",
        "\\end{pmatrix},\n",
        " \\hspace{1cm}\n",
        "B =\n",
        "\\begin{pmatrix}\n",
        "2 & 5 & 0\\\\\n",
        "7 & 3 & 8\\\\\n",
        "3 & 0 & 1\n",
        "\\end{pmatrix},\n",
        "\\hspace{1cm}\n",
        "C =\n",
        "\\begin{pmatrix}\n",
        "5 & -8 & 0\\\\\n",
        "2 & -4 & -3 \\\\\n",
        "-5 & 0 & 4\n",
        "\\end{pmatrix},\n",
        "\\hspace{1cm}\n",
        "I =\n",
        "\\begin{pmatrix}\n",
        "1 & 0 & 0\\\\\n",
        "0 & 1 & 0 \\\\\n",
        "0 & 0 & 1\n",
        "\\end{pmatrix}.\n",
        "\\end{equation*}\n"
      ],
      "metadata": {
        "id": "S8_KgC0JzPpj"
      }
    },
    {
      "cell_type": "code",
      "source": [
        "# Solución del Ejemplo 1.\n",
        "\n",
        "# Importamos la biblioteca numpy con el alias np.\n",
        "import numpy as np\n",
        "\n",
        "# Creación de las matrices A, B, C y I.\n",
        "\n",
        "A = np.array([[1, 2, 3], [-1, 4, 0], [-6, 0, 10]])\n",
        "\n",
        "B = np.array([[2, 5, 0], [7, 3, 8], [3, 0, 1]])\n",
        "\n",
        "C = np.array([[5, -8, 0], [2, -4, -3], [-5, 0, 4]])\n",
        "\n",
        "# Podemos crear la matriz identidad I como se hizo con la matrices anteriores, o simplemente usar el comando np.eye\n",
        "\n",
        "I = np.eye(3) # matriz identidad 3 x 3\n",
        "\n",
        "# Imprimo los matrices\n",
        "\n",
        "print('A =', A), print('B =', B), print('C =', C), print('I =', I);"
      ],
      "metadata": {
        "id": "tLMBJnxIfdgs",
        "colab": {
          "base_uri": "https://localhost:8080/"
        },
        "outputId": "cde3f905-425f-4493-9acb-8c23351b4d21"
      },
      "execution_count": null,
      "outputs": [
        {
          "output_type": "stream",
          "name": "stdout",
          "text": [
            "A = [[ 1  2  3]\n",
            " [-1  4  0]\n",
            " [-6  0 10]]\n",
            "B = [[2 5 0]\n",
            " [7 3 8]\n",
            " [3 0 1]]\n",
            "C = [[ 5 -8  0]\n",
            " [ 2 -4 -3]\n",
            " [-5  0  4]]\n",
            "I = [[1. 0. 0.]\n",
            " [0. 1. 0.]\n",
            " [0. 0. 1.]]\n"
          ]
        }
      ]
    },
    {
      "cell_type": "markdown",
      "source": [
        "## **Suma, resta y producto por escalar**\n",
        "\n",
        "### **Ejemplo 2:**\n",
        "Use las matrices establecidas en el Ejemplo 1 para realizar las operaciones indicadas:\n",
        "\n",
        "\n",
        "\n",
        "a).   $(A + 5B)-(3I-2C).$\n",
        "\n",
        "b).   $-5B + (194A - 80C) - 0.56I .$\n",
        "\n",
        "c). $ -165(A - B + 8C - I) + \\frac{4}{9}C + A     .$\n",
        "\n",
        "\n",
        "\n"
      ],
      "metadata": {
        "id": "RL00Txh7yBnt"
      }
    },
    {
      "cell_type": "code",
      "source": [
        "# Solución del Ejemplo 2.\n",
        "\n",
        "# a). Operación Z = (A + 5B)-(3I-2C)\n",
        "\n",
        "Z = (A + 5*B)-(3*I-2*C)\n",
        "\n",
        "# Imprimo la matriz Z\n",
        "\n",
        "print('Z =', Z);"
      ],
      "metadata": {
        "id": "fHLQfkTpqBXZ",
        "colab": {
          "base_uri": "https://localhost:8080/"
        },
        "outputId": "88a1574b-19af-43cc-eaae-adc4c0ac68b0"
      },
      "execution_count": null,
      "outputs": [
        {
          "output_type": "stream",
          "name": "stdout",
          "text": [
            "Z = [[18. 11.  3.]\n",
            " [38.  8. 34.]\n",
            " [-1.  0. 20.]]\n"
          ]
        }
      ]
    },
    {
      "cell_type": "code",
      "source": [
        "# b). Operación Z = -5B + (194A-80C) - 0.56I\n",
        "\n",
        "Z = -5*B + (194*A-80*C) - 0.56*I\n",
        "\n",
        "# Imprimo la matriz Z\n",
        "\n",
        "print('Z =', Z);"
      ],
      "metadata": {
        "id": "VwQlcq2hrUO-",
        "colab": {
          "base_uri": "https://localhost:8080/"
        },
        "outputId": "a216f6a5-1009-4b0a-a45d-b1f274548e01"
      },
      "execution_count": null,
      "outputs": [
        {
          "output_type": "stream",
          "name": "stdout",
          "text": [
            "Z = [[-216.56 1003.    582.  ]\n",
            " [-389.   1080.44  200.  ]\n",
            " [-779.      0.   1614.44]]\n"
          ]
        }
      ]
    },
    {
      "cell_type": "code",
      "source": [
        "# c). Operación Z = -165(A - B + 8C - I) + (4/9)C + A\n",
        "\n",
        "Z = -165*(A - B + 8*C - I) + (4/9)*C + A\n",
        "\n",
        "# Imprimo la matriz Z\n",
        "\n",
        "print('Z =', Z);"
      ],
      "metadata": {
        "colab": {
          "base_uri": "https://localhost:8080/"
        },
        "id": "vcDRh490dYb5",
        "outputId": "7cc979dd-1b8f-4bf7-d1a0-6855e0e7c266"
      },
      "execution_count": null,
      "outputs": [
        {
          "output_type": "stream",
          "name": "stdout",
          "text": [
            "Z = [[-6266.77777778 11053.44444444  -492.        ]\n",
            " [-1320.11111111  5282.22222222  5278.66666667]\n",
            " [ 8076.77777778     0.         -6588.22222222]]\n"
          ]
        }
      ]
    },
    {
      "cell_type": "markdown",
      "source": [
        "## **Multiplicación entre matrices**\n",
        "\n",
        "### **Ejemplo 3:**\n",
        "Crear las siguientes matrices\n",
        "\n",
        "\\begin{equation*}\n",
        " A =\n",
        "\\begin{pmatrix}\n",
        "3 & -2 & 3 & 45 & -8 & 0\\\\\n",
        "7 & 5 & -1 & 97 & -145 & 123\\\\\n",
        "-2 & 94 & 500 & 1 & 3 & 7 \\\\\n",
        "8 & 2 & 8 & 1 & 2 & -12 \\\\\n",
        "\\end{pmatrix},\n",
        " \\hspace{1cm}\n",
        "B =\n",
        "\\begin{pmatrix}\n",
        "22 & 25 & 0 & 6\\\\\n",
        "-7 & 2 & 56 & -10\\\\\n",
        "3 & 0 & 1 & 87\n",
        "\\end{pmatrix},\n",
        "\\hspace{1cm}\n",
        "C =\n",
        "\\begin{pmatrix}\n",
        "-5 & 8 & 0 & 1\\\\\n",
        "-2 & 4 & 3 & 2\\\\\n",
        "5 & 0 & -4 & 0 \\\\\n",
        "-5 & 0 & 4 & 3\n",
        "\\end{pmatrix},\n",
        "\\hspace{1cm}\n",
        "I =\n",
        "\\begin{pmatrix}\n",
        "1 & 0 & 0 & 0 \\\\\n",
        "0 & 1 & 0 & 0 \\\\\n",
        "0 & 0 & 1 & 0 \\\\\n",
        "0 & 0 & 0 & 1\n",
        "\\end{pmatrix}.\n",
        "\\end{equation*}\n",
        "\n",
        "\n",
        "y realizar las operaciones indicadas:\n",
        "\n",
        "\n",
        "a).   $7BA.$\n",
        "\n",
        "b).   $IA.$\n",
        "\n",
        "c). $IC-CI.$\n",
        "\n",
        "d). $(40C + 20I)A - 9A$\n",
        "\n"
      ],
      "metadata": {
        "id": "zw5oT64T-HdW"
      }
    },
    {
      "cell_type": "code",
      "source": [
        "# Solución del Ejemplo 3.\n",
        "\n",
        "# Creación de las matrices A, B, C y I.\n",
        "\n",
        "A = np.array([[3, -2, 3, 45, -8, 0], [7, 5, -1, 97, -145, 123], [-2, 94, 500, 1, 3, 7],[8, 2, 8, 1, 2, -12]])\n",
        "\n",
        "B = np.array([[22, 25, 0, 6], [-7, 2, 56, -10], [3, 0, 1, 87]])\n",
        "\n",
        "C = np.array([[-5, 8, 0, 1], [-2, 4, 3, 2], [5, 0, -4, 0],[-5, 0, 4, 3]])\n",
        "\n",
        "# Podemos crear la matriz identidad I como se hizo con la matrices anteriores, o simplemente usar el comando np.eye\n",
        "\n",
        "I = np.eye(4) # matriz identidad 4 x 4\n",
        "\n",
        "# Visualización de las matrices\n",
        "\n",
        "print('A =', A), print('B =', B), print('C =', C), print('I =', I);"
      ],
      "metadata": {
        "id": "VJrTGzewvvp_",
        "colab": {
          "base_uri": "https://localhost:8080/"
        },
        "outputId": "1f60313a-c6f1-4ca9-c037-32c0b04c4415"
      },
      "execution_count": null,
      "outputs": [
        {
          "output_type": "stream",
          "name": "stdout",
          "text": [
            "A = [[   3   -2    3   45   -8    0]\n",
            " [   7    5   -1   97 -145  123]\n",
            " [  -2   94  500    1    3    7]\n",
            " [   8    2    8    1    2  -12]]\n",
            "B = [[ 22  25   0   6]\n",
            " [ -7   2  56 -10]\n",
            " [  3   0   1  87]]\n",
            "C = [[-5  8  0  1]\n",
            " [-2  4  3  2]\n",
            " [ 5  0 -4  0]\n",
            " [-5  0  4  3]]\n",
            "I = [[1. 0. 0. 0.]\n",
            " [0. 1. 0. 0.]\n",
            " [0. 0. 1. 0.]\n",
            " [0. 0. 0. 1.]]\n"
          ]
        }
      ]
    },
    {
      "cell_type": "code",
      "source": [
        "# a). Operación Z = 7BA\n",
        "\n",
        "# Nota: El producto entre matrices se ejecuta con el comando @\n",
        "\n",
        "Z = 7*B@A\n",
        "\n",
        "print('Z =', Z);"
      ],
      "metadata": {
        "id": "DeRfQ95T07zp",
        "colab": {
          "base_uri": "https://localhost:8080/"
        },
        "outputId": "9ade40b1-7447-40b3-9a8b-c6558b0b27e7"
      },
      "execution_count": null,
      "outputs": [
        {
          "output_type": "stream",
          "name": "stdout",
          "text": [
            "Z = [[  2023    651    623  23947 -26523  21021]\n",
            " [ -1393  36876 195279   -525   -602   5306]\n",
            " [  4921   1834   8435   1561   1071  -7259]]\n"
          ]
        }
      ]
    },
    {
      "cell_type": "code",
      "source": [
        "# b). Operación Z = IA\n",
        "\n",
        "Z = I@A\n",
        "\n",
        "print('Z =', Z);"
      ],
      "metadata": {
        "colab": {
          "base_uri": "https://localhost:8080/"
        },
        "id": "bjMPKEaHsJys",
        "outputId": "57d60f08-a78f-4ed0-8a1a-afd686eeb8ff"
      },
      "execution_count": null,
      "outputs": [
        {
          "output_type": "stream",
          "name": "stdout",
          "text": [
            "Z = [[   3.   -2.    3.   45.   -8.    0.]\n",
            " [   7.    5.   -1.   97. -145.  123.]\n",
            " [  -2.   94.  500.    1.    3.    7.]\n",
            " [   8.    2.    8.    1.    2.  -12.]]\n"
          ]
        }
      ]
    },
    {
      "cell_type": "code",
      "source": [
        "# c). Operación Z = IC - CI\n",
        "\n",
        "Z = I@C - C@I\n",
        "\n",
        "print('Z =', Z);"
      ],
      "metadata": {
        "colab": {
          "base_uri": "https://localhost:8080/"
        },
        "id": "-hE2OKNCsZUb",
        "outputId": "e65c11e2-fd24-4cf8-bdb6-665f97741767"
      },
      "execution_count": null,
      "outputs": [
        {
          "output_type": "stream",
          "name": "stdout",
          "text": [
            "Z = [[0. 0. 0. 0.]\n",
            " [0. 0. 0. 0.]\n",
            " [0. 0. 0. 0.]\n",
            " [0. 0. 0. 0.]]\n"
          ]
        }
      ]
    },
    {
      "cell_type": "code",
      "source": [
        "# d). Operación Z = (40C + 20I)A - 9A\n",
        "\n",
        "Z = (40*C + 20*I)@A - 9*A\n",
        "\n",
        "print('Z =', Z);"
      ],
      "metadata": {
        "colab": {
          "base_uri": "https://localhost:8080/"
        },
        "id": "cx22_cfis8uj",
        "outputId": "a34e9afd-43c9-4b5c-c220-93108d95df09"
      },
      "execution_count": null,
      "outputs": [
        {
          "output_type": "stream",
          "name": "stdout",
          "text": [
            "Z = [[  1993.   2058.   -567.  22575. -44808.  38880.]\n",
            " [  1357.  12455.  60229.  13187. -23635.  20913.]\n",
            " [   898. -14406. -73900.   8851.  -2047.  -1043.]\n",
            " [   128.  15702.  80448.  -8709.   2342.   -452.]]\n"
          ]
        }
      ]
    },
    {
      "cell_type": "markdown",
      "source": [
        "## **Transpuesta de una matriz**\n",
        "\n",
        "### **Ejemplo 4:**\n",
        "Crear las siguientes matrices\n",
        "\n",
        "\\begin{equation*}\n",
        " A =\n",
        "\\begin{pmatrix}\n",
        "18 & -7 \\\\\n",
        "4 & 9 \\\\\n",
        "0 & 1 \\\\\n",
        "-200 & 15\\\\\n",
        "-321 & 973 \\\\\n",
        "4 & -36 \\\\\n",
        "8 & 20\n",
        "\\end{pmatrix},\n",
        " \\hspace{1cm}\n",
        "B =\n",
        "\\begin{pmatrix}\n",
        "-5 & 0 & 0 & -4 & 6 & 1\\\\\n",
        "4 & 1 & 1 & 30 & -43 & 2\n",
        "\\end{pmatrix},\n",
        "\\end{equation*}\n",
        "\n",
        "y realizar las operaciones indicadas:\n",
        "\n",
        "a). $ A^{T}.$\n",
        "\n",
        "b). $ B^{T}.$\n",
        "\n",
        "c). $(3A)^{T}.$\n",
        "\n",
        "d). $(AB)^T$"
      ],
      "metadata": {
        "id": "CHDD3JyvBOZt"
      }
    },
    {
      "cell_type": "code",
      "source": [
        "# Solución del Ejemplo 4.\n",
        "\n",
        "# Creo las matrices A y B\n",
        "\n",
        "A = np.array([[18, -7], [4, 9], [0, 1],[-200, 15],[-321, 973],[4, -36],[8, 20]])\n",
        "\n",
        "B = np.array([[-5, 0, 0, -4, 6, 1], [4, 1, 1, 30, -43, 2]])\n",
        "\n",
        "# Visualización de A y B\n",
        "\n",
        "print('A =', A), print('B =', B);"
      ],
      "metadata": {
        "id": "X_QBS-deBPdd",
        "colab": {
          "base_uri": "https://localhost:8080/"
        },
        "outputId": "1b3b1cca-1f4c-4d1c-a133-89717fc45fbc"
      },
      "execution_count": null,
      "outputs": [
        {
          "output_type": "stream",
          "name": "stdout",
          "text": [
            "A = [[  18   -7]\n",
            " [   4    9]\n",
            " [   0    1]\n",
            " [-200   15]\n",
            " [-321  973]\n",
            " [   4  -36]\n",
            " [   8   20]]\n",
            "B = [[ -5   0   0  -4   6   1]\n",
            " [  4   1   1  30 -43   2]]\n"
          ]
        }
      ]
    },
    {
      "cell_type": "code",
      "source": [
        "# a). Operación Z = A^T\n",
        "\n",
        "# Nota: La transpuesta de una matriz se puede ejecutar con el comando np.transpose\n",
        "\n",
        "Z = np.transpose(A)\n",
        "\n",
        "print('Z =', Z);"
      ],
      "metadata": {
        "id": "OHV2EnXvDgTt",
        "colab": {
          "base_uri": "https://localhost:8080/"
        },
        "outputId": "940698d8-f780-491b-f30c-2b78e08a6692"
      },
      "execution_count": null,
      "outputs": [
        {
          "output_type": "stream",
          "name": "stdout",
          "text": [
            "Z = [[  18    4    0 -200 -321    4    8]\n",
            " [  -7    9    1   15  973  -36   20]]\n"
          ]
        }
      ]
    },
    {
      "cell_type": "code",
      "source": [
        "# b). Operación Z = B^T\n",
        "\n",
        "Z = np.transpose(B)\n",
        "\n",
        "print('Z =', Z);"
      ],
      "metadata": {
        "colab": {
          "base_uri": "https://localhost:8080/"
        },
        "id": "awvatWQDwh4b",
        "outputId": "cfb7a06c-1a41-4250-8841-f4ca4978bd65"
      },
      "execution_count": null,
      "outputs": [
        {
          "output_type": "stream",
          "name": "stdout",
          "text": [
            "Z = [[ -5   4]\n",
            " [  0   1]\n",
            " [  0   1]\n",
            " [ -4  30]\n",
            " [  6 -43]\n",
            " [  1   2]]\n"
          ]
        }
      ]
    },
    {
      "cell_type": "code",
      "source": [
        "# c). Operación Z = (3A)^T\n",
        "\n",
        "Z = np.transpose(3*A)\n",
        "\n",
        "print('Z =', Z);"
      ],
      "metadata": {
        "id": "WnvfPSGpDryl",
        "colab": {
          "base_uri": "https://localhost:8080/"
        },
        "outputId": "beab68b6-78d8-4c53-cc8f-6ef7e49f7ec1"
      },
      "execution_count": null,
      "outputs": [
        {
          "output_type": "stream",
          "name": "stdout",
          "text": [
            "Z = [[  54   12    0 -600 -963   12   24]\n",
            " [ -21   27    3   45 2919 -108   60]]\n"
          ]
        }
      ]
    },
    {
      "cell_type": "code",
      "source": [
        "# d). Operación Z = (AB)^T\n",
        "\n",
        "Z = np.transpose(A@B)\n",
        "\n",
        "print('Z =', Z);"
      ],
      "metadata": {
        "colab": {
          "base_uri": "https://localhost:8080/"
        },
        "id": "nuHz8a5VO-8Q",
        "outputId": "27f98ab4-ad64-4fb6-faf6-71cd8ed84ed2"
      },
      "execution_count": null,
      "outputs": [
        {
          "output_type": "stream",
          "name": "stdout",
          "text": [
            "Z = [[  -118     16      4   1060   5497   -164     40]\n",
            " [    -7      9      1     15    973    -36     20]\n",
            " [    -7      9      1     15    973    -36     20]\n",
            " [  -282    254     30   1250  30474  -1096    568]\n",
            " [   409   -363    -43  -1845 -43765   1572   -812]\n",
            " [     4     22      2   -170   1625    -68     48]]\n"
          ]
        }
      ]
    },
    {
      "cell_type": "markdown",
      "source": [
        "\n",
        "### **Ejemplo 5:**\n",
        "Determine cuáles de las igualdades dadas a continuación son ciertas para las siguientes matrices:\n",
        "\n",
        "\n",
        "\\begin{equation*}\n",
        " A =\n",
        "\\begin{pmatrix}\n",
        "4 & -7 & -1 & 3 \\\\\n",
        "4 & 9 & 5 & 0 \\\\\n",
        "1 & -1 & 6 & 10 \\\\\n",
        "8 & 5 & -5 & 2\n",
        "\\end{pmatrix},\n",
        " \\hspace{1cm}\n",
        "B =\n",
        "\\begin{pmatrix}\n",
        "-5 & 3 & 4 & -4\\\\\n",
        "-3 & 78 & 9 & -2\\\\\n",
        "-4 & 6 & 1 & -3\\\\\n",
        "2 & 4 & 0 & 12\n",
        "\\end{pmatrix},\n",
        "\\hspace{1cm}\n",
        "C =\n",
        "\\begin{pmatrix}\n",
        "3 & 1 & 1 & 1\\\\\n",
        "0 & 0 & -4 & 2\\\\\n",
        "0 & 2 & 3 & 3\\\\\n",
        "2 & 7 & 1 & 2\n",
        "\\end{pmatrix}.\n",
        "\\end{equation*}\n",
        "\n",
        "a). $ AB = BA.$\n",
        "\n",
        "b). $ (A^{T})^T = A.$\n",
        "\n",
        "c). $(AB)^{T} = A^T B^T.$\n",
        "\n",
        "d). $(C+C^T)B^T = (BC^T)^T + (BC)^T$\n",
        "\n",
        "\n"
      ],
      "metadata": {
        "id": "4EXjErM2W6Nk"
      }
    },
    {
      "cell_type": "code",
      "source": [
        "# Solución del Ejemplo 5.\n",
        "\n",
        "# Creo las matrices A, B y C\n",
        "\n",
        "A = np.array([[4, -7, -1, 3], [4, 9, 5, 0], [1, -1, 6, 10],[8, 5, -5, 2]])\n",
        "\n",
        "B = np.array([[-5, 3, 4, -4], [-3, 78, 9, -2], [-4, 6, 1, -3],[2, 4, 0, 12]])\n",
        "\n",
        "C = np.array([[3, 1, 1, 1], [0, 0, -4, 2], [0, 2, 3, 3],[2, 7, 1, 2]])\n"
      ],
      "metadata": {
        "id": "mcO8qf3jfiTC"
      },
      "execution_count": null,
      "outputs": []
    },
    {
      "cell_type": "code",
      "source": [
        "# a). AB = BA\n",
        "\n",
        "# Hallo las matrices Z =  AB y W = BA\n",
        "\n",
        "Z = A@B\n",
        "\n",
        "W = B@A\n",
        "\n",
        "print('Z =', Z), print('W =', W);"
      ],
      "metadata": {
        "colab": {
          "base_uri": "https://localhost:8080/"
        },
        "id": "HLvpJIVtzLvi",
        "outputId": "5e58c010-5496-4668-95a6-1b3707984546"
      },
      "execution_count": null,
      "outputs": [
        {
          "output_type": "stream",
          "name": "stdout",
          "text": [
            "Z = [[  11 -528  -48   37]\n",
            " [ -67  744  102  -49]\n",
            " [  -6    1    1  100]\n",
            " [ -31  392   72   -3]]\n",
            "W = [[-36  38  64  17]\n",
            " [293 704 457  77]\n",
            " [-15  66  55  -8]\n",
            " [120  82 -42  30]]\n"
          ]
        }
      ]
    },
    {
      "cell_type": "markdown",
      "source": [
        "Observamos que el producto $AB$ genera una matriz diferente al producto $BA$, por lo tanto, el producto de matrices **no es conmutativo**."
      ],
      "metadata": {
        "id": "3eS3piy_zsWD"
      }
    },
    {
      "cell_type": "code",
      "source": [
        "# b). (A^T)^T = A\n",
        "\n",
        "# Hallo la matriz  Z = (A^T)^T\n",
        "\n",
        "Z = np.transpose(np.transpose(A))\n",
        "\n",
        "print('Z =', Z), print('A =', A);"
      ],
      "metadata": {
        "colab": {
          "base_uri": "https://localhost:8080/"
        },
        "id": "TfE_YU7d0N7f",
        "outputId": "0111017a-9eac-4bee-9dc4-e17a3f9ffbfd"
      },
      "execution_count": null,
      "outputs": [
        {
          "output_type": "stream",
          "name": "stdout",
          "text": [
            "Z = [[ 4 -7 -1  3]\n",
            " [ 4  9  5  0]\n",
            " [ 1 -1  6 10]\n",
            " [ 8  5 -5  2]]\n",
            "A = [[ 4 -7 -1  3]\n",
            " [ 4  9  5  0]\n",
            " [ 1 -1  6 10]\n",
            " [ 8  5 -5  2]]\n"
          ]
        }
      ]
    },
    {
      "cell_type": "markdown",
      "source": [
        "Del cálculo anterior, podemos ver que la igualdad se satisface, es decir, que $(A^T)^T = A$. En efecto, dicha igualdad es válida para cualquier matriz."
      ],
      "metadata": {
        "id": "79-goIeq0tDz"
      }
    },
    {
      "cell_type": "code",
      "source": [
        "# c). (AB)^T = (A^T)(B^T)\n",
        "\n",
        "# Calculo las matrices Z = (AB)^T y W = (A^T)(B^T)\n",
        "\n",
        "Z = np.transpose(A@B)\n",
        "\n",
        "W = np.transpose(A)@np.transpose(B)\n",
        "\n",
        "print('Z =', Z), print('W =', W);"
      ],
      "metadata": {
        "colab": {
          "base_uri": "https://localhost:8080/"
        },
        "id": "_sJLb1AW1aEy",
        "outputId": "ef6c5bd6-e5d2-488b-a755-f61f5e5e2446"
      },
      "execution_count": null,
      "outputs": [
        {
          "output_type": "stream",
          "name": "stdout",
          "text": [
            "Z = [[  11  -67   -6  -31]\n",
            " [-528  744    1  392]\n",
            " [ -48  102    1   72]\n",
            " [  37  -49  100   -3]]\n",
            "W = [[-36 293 -15 120]\n",
            " [ 38 704  66  82]\n",
            " [ 64 457  55 -42]\n",
            " [ 17  77  -8  30]]\n"
          ]
        }
      ]
    },
    {
      "cell_type": "markdown",
      "source": [
        "Los resultados indican que tal igualdad no es cierta para estas matrices. Por ello, en general se que $(AB)^{T} \\not = A^T B^T.$"
      ],
      "metadata": {
        "id": "32fjbOZU13Hg"
      }
    },
    {
      "cell_type": "code",
      "source": [
        "# d). (C + C^T)(B^T) = (BC^T)^T + (BC)^T\n",
        "\n",
        "# Hallo las matrices Z =  (C + C^T)(B^T) y W = (BC^T)^T + (BC)^T\n",
        "\n",
        "Z = (C + np.transpose(C))@np.transpose(B)\n",
        "\n",
        "W = np.transpose(B@np.transpose(C)) + np.transpose(B@C)\n",
        "\n",
        "print('Z =', Z), print('W =', W);"
      ],
      "metadata": {
        "colab": {
          "base_uri": "https://localhost:8080/"
        },
        "id": "Olkes1fm2fAx",
        "outputId": "9b0de0c9-d3b3-427b-b885-0d9ef6ab3a7d"
      },
      "execution_count": null,
      "outputs": [
        {
          "output_type": "stream",
          "name": "stdout",
          "text": [
            "Z = [[ -35   63  -26   52]\n",
            " [ -49  -39  -33  110]\n",
            " [  -3 -113  -22   42]\n",
            " [  12  721   34   90]]\n",
            "W = [[ -35   63  -26   52]\n",
            " [ -49  -39  -33  110]\n",
            " [  -3 -113  -22   42]\n",
            " [  12  721   34   90]]\n"
          ]
        }
      ]
    },
    {
      "cell_type": "markdown",
      "source": [
        "En consecuencia, la propiedad se satisface para dichas matrices. En general, esta propiedad es cierta para cualquier par de matrices."
      ],
      "metadata": {
        "id": "aadgmyFQ3ioP"
      }
    },
    {
      "cell_type": "markdown",
      "source": [
        "# **Problemas de práctica**\n",
        "\n",
        "**Ejercicio 1:** Defina las siguientes matrices\n",
        "\n",
        "\\begin{equation*}\n",
        " A =\n",
        "\\begin{pmatrix}\n",
        "4 & -6 & 50 & -8 & 1 & 0 & 33 7 & 2\\\\\n",
        "-7 & 0 & -66 & 1 & 4 & 0 & 2 & 4\n",
        "\\end{pmatrix},\n",
        " \\hspace{0.7cm}\n",
        "B =\n",
        "\\begin{pmatrix}\n",
        "-5 & 2 \\\\\n",
        "40 & -1 \\\\\n",
        "0 & 4\n",
        "\\end{pmatrix},\n",
        "\\hspace{0.7cm}\n",
        "C =\n",
        "\\begin{pmatrix}\n",
        "3 & 8 & 45 & 21 & 10 & -9 & -2 & 2 \\\\\n",
        "-5 & 5 & -54 & 6 & 7 & -245 & 1 & 4\n",
        "\\end{pmatrix}.\n",
        "\\end{equation*}"
      ],
      "metadata": {
        "id": "GtAb8xLGEP7n"
      }
    },
    {
      "cell_type": "code",
      "source": [
        "# Empiece aquí su código\n",
        "\n"
      ],
      "metadata": {
        "id": "KRxwCyGlJSiR"
      },
      "execution_count": null,
      "outputs": []
    },
    {
      "cell_type": "markdown",
      "source": [
        "**Ejercicio 2:** Usando las matrices anteriormente definidas, realice las operaciones indicadas:\n",
        "\n",
        "a). $-6A + 3C.$\n",
        "\n",
        "b). $ A + 2B.$ Debería obtener un error, explique la causa del error.\n",
        "\n",
        "c). $(BC)^{T}$.\n",
        "\n",
        "d). $CB$. Explique el resultado obtenido.\n",
        "\n",
        "e). $AC^T$ y $C^TA$. ¿Coinciden los resultados?\n",
        "\n",
        "f). $(A - C)^{T}$ y $A^T - C^T.$ ¿Coinciden los resultados?\n",
        "\n",
        "g). $\\|\\vec{u}\\|A + (\\vec{u}\\cdot \\vec{v})C,$ donde $\\vec{u} = (1, 0, 56)$ y $\\vec{v} = (-30, 6, 8).$\n"
      ],
      "metadata": {
        "id": "VMN-IDvXJZB2"
      }
    },
    {
      "cell_type": "code",
      "source": [
        "# Empiece aquí su código\n",
        "\n",
        " # a).\n"
      ],
      "metadata": {
        "id": "OYpPtDA8MRrJ"
      },
      "execution_count": null,
      "outputs": []
    },
    {
      "cell_type": "code",
      "source": [
        "# b)."
      ],
      "metadata": {
        "id": "hp_eDqHqciEl"
      },
      "execution_count": null,
      "outputs": []
    },
    {
      "cell_type": "code",
      "source": [
        "# c)."
      ],
      "metadata": {
        "id": "_IySYtRRckcj"
      },
      "execution_count": null,
      "outputs": []
    },
    {
      "cell_type": "code",
      "source": [
        "# d)."
      ],
      "metadata": {
        "id": "8TOSoaIpcl9D"
      },
      "execution_count": null,
      "outputs": []
    },
    {
      "cell_type": "code",
      "source": [
        "# e)."
      ],
      "metadata": {
        "id": "NMjgVxsVcoot"
      },
      "execution_count": null,
      "outputs": []
    },
    {
      "cell_type": "code",
      "source": [
        "# f)."
      ],
      "metadata": {
        "id": "NPWuXnqHcqN0"
      },
      "execution_count": null,
      "outputs": []
    },
    {
      "cell_type": "code",
      "source": [
        "# g)."
      ],
      "metadata": {
        "id": "IrT7NhdRcswP"
      },
      "execution_count": null,
      "outputs": []
    }
  ]
}